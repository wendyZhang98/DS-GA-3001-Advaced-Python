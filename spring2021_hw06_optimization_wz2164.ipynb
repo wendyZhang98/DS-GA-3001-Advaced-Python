{
 "cells": [
  {
   "cell_type": "markdown",
   "metadata": {},
   "source": [
    "## Homework 06: Optimization in Python\n",
    "\n",
    "## Due Date: March 29, 2021, 4:00pm\n",
    "\n",
    "#### Firstname Lastname: WenxinZhang\n",
    "\n",
    "#### E-mail: wz2164@nyu.edu\n",
    "\n",
    "#### Enter your solutions and submit this notebook"
   ]
  },
  {
   "cell_type": "code",
   "execution_count": 1,
   "metadata": {
    "ExecuteTime": {
     "end_time": "2021-03-29T16:00:20.721704Z",
     "start_time": "2021-03-29T16:00:20.718911Z"
    }
   },
   "outputs": [],
   "source": [
    "# Import functions"
   ]
  },
  {
   "cell_type": "code",
   "execution_count": 2,
   "metadata": {
    "ExecuteTime": {
     "end_time": "2021-03-29T16:00:22.924432Z",
     "start_time": "2021-03-29T16:00:20.724462Z"
    }
   },
   "outputs": [],
   "source": [
    "from scipy import optimize\n",
    "from jax import jit, grad, hessian\n",
    "\n",
    "import matplotlib.pyplot as plt\n",
    "import numpy as np\n",
    "import sympy\n",
    "\n",
    "from IPython.core.interactiveshell import InteractiveShell\n",
    "InteractiveShell.ast_node_interactivity = \"all\" "
   ]
  },
  {
   "cell_type": "markdown",
   "metadata": {},
   "source": [
    "---\n",
    "\n",
    "**Problem 1 (30p)**\n",
    "\n",
    "We examine a product of non-negative numbers given their sum. Concretely, the problem is to find all $(x, y, z)$ among all non-negative reals $x, y, z \\geq 0$ such that\n",
    "their product $P(x, y, z) = x y z$ is maximized, given their sum $x + y + z = 270$. \n",
    "\n",
    "\n",
    "1.1. (15p)\n",
    "Cast the problem as a nonlinear two-dimensional optimization problem over with box constraints (*hint*: remove the sum constraint, and ignore one of the positivity constraints which should not be violated with proper initialization) and solve it using the L-BFGS-B method of `scipy.optimize.minimize`.\n",
    "\n",
    "1.2. (15p)\n",
    "Cast the problem as an equivalent one-dimensional constrained optimization problem (*hint*: after removing the sum constraint, can you further use optimality conditions to remove one more variable?), and solve it using `scipy.optimize.minimize_scalar`.\n",
    "\n"
   ]
  },
  {
   "cell_type": "markdown",
   "metadata": {},
   "source": [
    "### Answer to Problem 1"
   ]
  },
  {
   "cell_type": "markdown",
   "metadata": {},
   "source": [
    "### - Answer to 1.1"
   ]
  },
  {
   "cell_type": "code",
   "execution_count": 3,
   "metadata": {
    "ExecuteTime": {
     "end_time": "2021-03-29T16:00:22.934976Z",
     "start_time": "2021-03-29T16:00:22.926297Z"
    }
   },
   "outputs": [
    {
     "name": "stdout",
     "output_type": "stream",
     "text": [
      "Using the L-BFGS-B method, it's concluded that:\n",
      "(x, y, z) such as (90.0, 90.0, 90.0) would maximize P=xyz with the constraint that x+y+z=270\n",
      "And the according maximized P equals to 729000.0\n"
     ]
    }
   ],
   "source": [
    "def f_1(X):\n",
    "    x, y = X\n",
    "    return - x * y * (270 - x - y)\n",
    "\n",
    "bnd_x1, bnd_x2 = (0, 270), (0, 270)\n",
    "\n",
    "#'L-BFGS-B limited-memory with bound constraints\n",
    "optimized_x, optimized_y = optimize.minimize(f_1, np.array([1, 1]), method='L-BFGS-B', bounds=[bnd_x1, bnd_x2]).x\n",
    "\n",
    "optimized_z = 270 - optimized_x - optimized_y\n",
    "\n",
    "print('Using the L-BFGS-B method, it\\'s concluded that:') \n",
    "print(f'(x, y, z) such as {(round(optimized_x,4), round(optimized_y,4), round(optimized_z, 4))} would maximize P=xyz with the constraint that x+y+z=270')\n",
    "print(f'And the according maximized P equals to {round(optimized_x*optimized_y*optimized_z,4)}')\n",
    "      "
   ]
  },
  {
   "cell_type": "markdown",
   "metadata": {},
   "source": [
    "### -  Answer to 1.2"
   ]
  },
  {
   "cell_type": "code",
   "execution_count": 4,
   "metadata": {
    "ExecuteTime": {
     "end_time": "2021-03-29T16:00:22.976109Z",
     "start_time": "2021-03-29T16:00:22.937202Z"
    }
   },
   "outputs": [
    {
     "name": "stdout",
     "output_type": "stream",
     "text": [
      "Using the L-BFGS-B method, it's concluded that:\n",
      "(x, y, z) such as (90.0, 90.0, 90.0) would maximize P=xyz with the constraint that x+y+z=270\n",
      "And the according maximized P equals to 729000.0\n"
     ]
    }
   ],
   "source": [
    "def f_2(x):\n",
    "    return - x * ((270 - x) / 2)**2\n",
    "\n",
    "#'L-BFGS-B limited-memory with bound constraints\n",
    "optimized_x = optimize.minimize_scalar(f_2, method='bounded', bounds=(0, 270)).x\n",
    "\n",
    "optimized_y = (270 - optimized_x) / 2\n",
    "optimized_z = (270 - optimized_x) / 2\n",
    "\n",
    "\n",
    "print('Using the L-BFGS-B method, it\\'s concluded that:') \n",
    "print(f'(x, y, z) such as {(round(optimized_x,4), round(optimized_y,4), round(optimized_z, 4))} would maximize P=xyz with the constraint that x+y+z=270')\n",
    "print(f'And the according maximized P equals to {round(optimized_x*optimized_y*optimized_z,4)}')\n",
    "      "
   ]
  },
  {
   "cell_type": "markdown",
   "metadata": {},
   "source": [
    "---\n",
    "\n",
    "**Problem 2 (70p)**\n",
    "\n",
    "Let us consider the following function,\n",
    "\n",
    "$$h(x, y) := (x^2 + y - 10)^2 + (x + y^2 - 17)^2.$$\n",
    "    \n",
    "find **all extremal** points (both minima and maxima) in the region $-10 \\leq x, y \\leq 10$.\n",
    "\n",
    "\n",
    "The goal is to: (a) find extremal points; (b) compare convergence, i.e. the numbers of: Iterations, Function evaluations, Gradient evaluations, Hessian evaluations.\n",
    "\n",
    "\n",
    "Solve the problem by using the Newton optimization routine \"scipy.optimize.fmin_ncg\":\n",
    "\n",
    "2.1. (20p) providing gradient (fprime) and Hessian (fhess) in \"scipy.optimize.fmin_ncg\"\n",
    "\n",
    "2.2. (20p) providing only gradient (fprime) in \"scipy.optimize.fmin_ncg\"\n",
    "\n",
    "Solve the problem by using the quasi-Newton optimization routine \"fmin_bfgs\":\n",
    "\n",
    "2.3. (20p) **not** providing gradient (fprime) or Hessian (like in \"scipy.optimize.fmin_ncg\").\n",
    "\n",
    "\n",
    "Use JAX for computing the gradient and Hessian as in the lecture. (make sure the gradient and Hessian are correctly computed).\n",
    "\n",
    "\n",
    "2.4. (10p) Plot $h(x, y)$ in the given region $-10 \\leq x, y \\leq 10$.\n",
    "\n",
    "\n",
    "**Hint**: Note there are multiple extremal points in the given region. So one has to run the Newton routine with different starting points in order to find different extremal points. \n",
    "\n",
    "\n",
    "For every extremal point report: \n",
    "- (xopt, yopt)\n",
    "- h(xopt, yopt)\n",
    "- (xstart, ystart)\n",
    "- the number of Iterations\n",
    "- the number of Function evaluations\n",
    "- the number of Gradient evaluations\n",
    "- the number of Hessian evaluations.\n",
    "\n",
    "**Hint 2:** There are both local mimima and maxima; notice that \"scipy.optimize.fmin_ncg\" finds \"minimum\" not the \"maximum\". To locate stationary points, partition $-10 \\leq x, y \\leq 10$ into multiple regions and use \"optimize.brute\" in each of these regions. Then use the resulting points as starting points in \"scipy.optimize.fmin_ncg\".\n"
   ]
  },
  {
   "cell_type": "markdown",
   "metadata": {},
   "source": [
    "### Answer to Problem 2"
   ]
  },
  {
   "cell_type": "markdown",
   "metadata": {},
   "source": [
    "### - Initialization"
   ]
  },
  {
   "cell_type": "code",
   "execution_count": 5,
   "metadata": {
    "ExecuteTime": {
     "end_time": "2021-03-29T16:00:23.343611Z",
     "start_time": "2021-03-29T16:00:22.979891Z"
    },
    "scrolled": true
   },
   "outputs": [
    {
     "data": {
      "text/latex": [
       "$\\displaystyle \\left[\\begin{matrix}4 x \\left(x^{2} + y - 10\\right) + 2 x + 2 y^{2} - 34\\\\2 x^{2} + 4 y \\left(x + y^{2} - 17\\right) + 2 y - 20\\end{matrix}\\right]$"
      ],
      "text/plain": [
       "Matrix([\n",
       "[4*x*(x**2 + y - 10) + 2*x + 2*y**2 - 34],\n",
       "[2*x**2 + 4*y*(x + y**2 - 17) + 2*y - 20]])"
      ]
     },
     "execution_count": 5,
     "metadata": {},
     "output_type": "execute_result"
    },
    {
     "data": {
      "text/latex": [
       "$\\displaystyle \\left[\\begin{matrix}2 \\left(6 x^{2} + 2 y - 19\\right) & 4 \\left(x + y\\right)\\\\4 \\left(x + y\\right) & 2 \\left(2 x + 6 y^{2} - 33\\right)\\end{matrix}\\right]$"
      ],
      "text/plain": [
       "Matrix([\n",
       "[2*(6*x**2 + 2*y - 19),             4*(x + y)],\n",
       "[            4*(x + y), 2*(2*x + 6*y**2 - 33)]])"
      ]
     },
     "execution_count": 5,
     "metadata": {},
     "output_type": "execute_result"
    }
   ],
   "source": [
    "x, y = sympy.symbols(\"x, y\")\n",
    "h_xy = (x**2 + y - 10) ** 2 + (x + y**2 - 17)**2\n",
    "\n",
    "fprime_implemented = [h_xy.diff(x_) for x_ in (x, y)]\n",
    "fhessian_implemented = [[h_xy.diff(u, v) for u in (x, y)] for v in (x, y)]\n",
    "sympy.Matrix(fprime_implemented)\n",
    "sympy.Matrix(fhessian_implemented)\n",
    "\n",
    "h_lam = sympy.lambdify((x, y), h_xy, 'numpy')\n",
    "fprime_lam = sympy.lambdify((x, y), fprime_implemented, 'numpy')\n",
    "fhessian_lam = sympy.lambdify((x, y), fhessian_implemented, 'numpy')\n",
    "\n",
    "def func_to_vector(f):\n",
    "    return lambda x: np.array(f(x[0], x[1]))\n",
    "\n",
    "h = func_to_vector(h_lam)\n",
    "h_prime = func_to_vector(fprime_lam)\n",
    "h_hessian = func_to_vector(fhessian_lam)\n"
   ]
  },
  {
   "cell_type": "code",
   "execution_count": 6,
   "metadata": {
    "ExecuteTime": {
     "end_time": "2021-03-29T16:00:23.370777Z",
     "start_time": "2021-03-29T16:00:23.346168Z"
    }
   },
   "outputs": [],
   "source": [
    "x_start_1 = optimize.brute(h, (slice(0, 10, 0.5), slice(0, 10, 0.5))) \n",
    "x_start_2 = optimize.brute(h, (slice(-10, 0, 0.5), slice(0, 10, 0.5))) \n",
    "x_start_3 = optimize.brute(h, (slice(-10, 0, 0.5), slice(-10, 0, 0.5))) \n",
    "x_start_4 = optimize.brute(h, (slice(0, 10, 0.5), slice(-10, 0, 0.5)))\n"
   ]
  },
  {
   "cell_type": "markdown",
   "metadata": {},
   "source": [
    "### - Answer to Problem 2.1\n",
    "\n",
    "(20p) Providing gradient (fprime) and Hessian (fhess) in \"scipy.optimize.fmin_ncg\""
   ]
  },
  {
   "cell_type": "code",
   "execution_count": 7,
   "metadata": {
    "ExecuteTime": {
     "end_time": "2021-03-29T16:00:23.387805Z",
     "start_time": "2021-03-29T16:00:23.372677Z"
    },
    "scrolled": false
   },
   "outputs": [
    {
     "name": "stdout",
     "output_type": "stream",
     "text": [
      "\n",
      "Minimum in 1st quadrant:\n",
      "Optimization terminated successfully.\n",
      "         Current function value: 0.000000\n",
      "         Iterations: 2\n",
      "         Function evaluations: 3\n",
      "         Gradient evaluations: 3\n",
      "         Hessian evaluations: 2\n",
      "x_opt_1: [2.48808134 3.80945123]\n",
      "h_(x_opt_1): 0.0\n",
      "x_start_1: [2.48810154 3.80946346]\n",
      "\n",
      "Minimum in 2nd quadrant:\n",
      "Optimization terminated successfully.\n",
      "         Current function value: 0.000000\n",
      "         Iterations: 2\n",
      "         Function evaluations: 3\n",
      "         Gradient evaluations: 3\n",
      "         Hessian evaluations: 2\n",
      "x_opt_2: [-2.36628111  4.4007137 ]\n",
      "h_(x_opt_2): 3.0480730252518637e-23\n",
      "x_start_2: [-2.36632417  4.40071807]\n",
      "\n",
      "Minimum in 3rd quadrant:\n",
      "Optimization terminated successfully.\n",
      "         Current function value: 0.000000\n",
      "         Iterations: 2\n",
      "         Function evaluations: 3\n",
      "         Gradient evaluations: 3\n",
      "         Hessian evaluations: 2\n",
      "x_opt_3: [-3.81607969 -4.56246421]\n",
      "h_(x_opt_3): 3.1554436208840472e-30\n",
      "x_start_3: [-3.81611395 -4.56248642]\n",
      "\n",
      "Minimum in 4th quadrant:\n",
      "Optimization terminated successfully.\n",
      "         Current function value: 0.000000\n",
      "         Iterations: 2\n",
      "         Function evaluations: 3\n",
      "         Gradient evaluations: 3\n",
      "         Hessian evaluations: 2\n",
      "x_opt_4: [ 3.69427946 -3.64770072]\n",
      "h_(x_opt_4): 4.543838814073028e-28\n",
      "x_start_4: [ 3.69430358 -3.6476957 ]\n",
      "\n",
      "Maximum :\n",
      "Optimization terminated successfully.\n",
      "         Current function value: -407.343841\n",
      "         Iterations: 8\n",
      "         Function evaluations: 9\n",
      "         Gradient evaluations: 9\n",
      "         Hessian evaluations: 8\n",
      "x_max: [-0.95712665 -0.26119845]\n",
      "h_(x_max): 407.3438407958301\n",
      "x_start: [0, 0]\n"
     ]
    }
   ],
   "source": [
    "print(\"\\nMinimum in 1st quadrant:\")\n",
    "x_opt_1 = optimize.fmin_ncg(h, x_start_1, fprime=h_prime, fhess=h_hessian)\n",
    "print(\"x_opt_1:\", x_opt_1)\n",
    "print(f'h_(x_opt_1): {h(x_opt_1)}')\n",
    "print(\"x_start_1:\", x_start_1)\n",
    "\n",
    "\n",
    "print(\"\\nMinimum in 2nd quadrant:\")\n",
    "x_opt_2 = optimize.fmin_ncg(h, x_start_2, fprime=h_prime, fhess=h_hessian)\n",
    "print(\"x_opt_2:\", x_opt_2)\n",
    "print(f'h_(x_opt_2): {h(x_opt_2)}')\n",
    "print(\"x_start_2:\", x_start_2)\n",
    "\n",
    "print(\"\\nMinimum in 3rd quadrant:\")\n",
    "x_opt_3 = optimize.fmin_ncg(h, x_start_3, fprime=h_prime, fhess=h_hessian)\n",
    "print(\"x_opt_3:\", x_opt_3)\n",
    "print(f'h_(x_opt_3): {h(x_opt_3)}')\n",
    "print(\"x_start_3:\", x_start_3)\n",
    "\n",
    "print(\"\\nMinimum in 4th quadrant:\")\n",
    "x_opt_4 = optimize.fmin_ncg(h, x_start_4, fprime=h_prime, fhess=h_hessian)\n",
    "print(\"x_opt_4:\", x_opt_4)\n",
    "print(f'h_(x_opt_4): {h(x_opt_4)}')\n",
    "print(\"x_start_4:\", x_start_4)\n",
    "\n",
    "print(\"\\nMaximum :\")\n",
    "x_max = optimize.fmin_ncg(lambda x:-h(x), (0,0), fprime=lambda x:-h_prime(x), fhess=lambda x:-h_hessian(x))\n",
    "print(\"x_max:\", x_max)\n",
    "print(f'h_(x_max): {h(x_max)}')\n",
    "print(\"x_start:\", [0, 0])\n"
   ]
  },
  {
   "cell_type": "markdown",
   "metadata": {
    "ExecuteTime": {
     "end_time": "2021-03-29T12:50:31.958144Z",
     "start_time": "2021-03-29T12:50:31.951031Z"
    }
   },
   "source": [
    "### - Answer to Problem 2.2\n",
    "\n",
    "(20p) Providing only gradient (fprime) in \"scipy.optimize.fmin_ncg\"\n"
   ]
  },
  {
   "cell_type": "code",
   "execution_count": 8,
   "metadata": {
    "ExecuteTime": {
     "end_time": "2021-03-29T16:00:23.405525Z",
     "start_time": "2021-03-29T16:00:23.389844Z"
    }
   },
   "outputs": [
    {
     "name": "stdout",
     "output_type": "stream",
     "text": [
      "\n",
      "Minimum in 1st quadrant:\n",
      "Optimization terminated successfully.\n",
      "         Current function value: 0.000000\n",
      "         Iterations: 2\n",
      "         Function evaluations: 3\n",
      "         Gradient evaluations: 8\n",
      "         Hessian evaluations: 0\n",
      "x_opt_1: [2.48808134 3.80945123]\n",
      "h_(x_opt_1): 3.913260704098494e-18\n",
      "x_start_1: [2.48810154 3.80946346]\n",
      "\n",
      "Minimum in 2nd quadrant:\n",
      "Optimization terminated successfully.\n",
      "         Current function value: 0.000000\n",
      "         Iterations: 2\n",
      "         Function evaluations: 3\n",
      "         Gradient evaluations: 10\n",
      "         Hessian evaluations: 0\n",
      "x_opt_2: [-2.36628111  4.4007137 ]\n",
      "h_(x_opt_2): 1.2440635210554613e-18\n",
      "x_start_2: [-2.36632417  4.40071807]\n",
      "\n",
      "Minimum in 3rd quadrant:\n",
      "Optimization terminated successfully.\n",
      "         Current function value: 0.000000\n",
      "         Iterations: 2\n",
      "         Function evaluations: 4\n",
      "         Gradient evaluations: 9\n",
      "         Hessian evaluations: 0\n",
      "x_opt_3: [-3.81607969 -4.56246421]\n",
      "h_(x_opt_3): 4.618710602863182e-19\n",
      "x_start_3: [-3.81611395 -4.56248642]\n",
      "\n",
      "Minimum in 4th quadrant:\n",
      "Optimization terminated successfully.\n",
      "         Current function value: 0.000000\n",
      "         Iterations: 2\n",
      "         Function evaluations: 3\n",
      "         Gradient evaluations: 7\n",
      "         Hessian evaluations: 0\n",
      "x_opt_4: [ 3.69427946 -3.64770072]\n",
      "h_(x_opt_4): 4.4381017646558876e-18\n",
      "x_start_4: [ 3.69430358 -3.6476957 ]\n",
      "\n",
      "Maximum :\n",
      "Optimization terminated successfully.\n",
      "         Current function value: -407.343841\n",
      "         Iterations: 8\n",
      "         Function evaluations: 9\n",
      "         Gradient evaluations: 21\n",
      "         Hessian evaluations: 0\n",
      "x_max: [-0.95712665 -0.26119845]\n",
      "h_(x_max): 407.34384079583015\n",
      "x_start: [0, 0]\n"
     ]
    }
   ],
   "source": [
    "print(\"\\nMinimum in 1st quadrant:\")\n",
    "x_opt_1 = optimize.fmin_ncg(h, x_start_1, fprime=h_prime)\n",
    "print(\"x_opt_1:\", x_opt_1)\n",
    "print(f'h_(x_opt_1): {h(x_opt_1)}')\n",
    "print(\"x_start_1:\", x_start_1)\n",
    "\n",
    "print(\"\\nMinimum in 2nd quadrant:\")\n",
    "x_opt_2 = optimize.fmin_ncg(h, x_start_2, fprime=h_prime)\n",
    "print(\"x_opt_2:\", x_opt_2)\n",
    "print(f'h_(x_opt_2): {h(x_opt_2)}')\n",
    "print(\"x_start_2:\", x_start_2)\n",
    "\n",
    "print(\"\\nMinimum in 3rd quadrant:\")\n",
    "x_opt_3 = optimize.fmin_ncg(h, x_start_3, fprime=h_prime)\n",
    "print(\"x_opt_3:\", x_opt_3)\n",
    "print(f'h_(x_opt_3): {h(x_opt_3)}')\n",
    "print(\"x_start_3:\", x_start_3)\n",
    "\n",
    "print(\"\\nMinimum in 4th quadrant:\")\n",
    "x_opt_4 = optimize.fmin_ncg(h, x_start_4, fprime=h_prime)\n",
    "print(\"x_opt_4:\", x_opt_4)\n",
    "print(f'h_(x_opt_4): {h(x_opt_4)}')\n",
    "print(\"x_start_4:\", x_start_4)\n",
    "\n",
    "print(\"\\nMaximum :\")\n",
    "x_max = optimize.fmin_ncg(lambda x:-h(x), (0,0), fprime=lambda x:-h_prime(x))\n",
    "print(\"x_max:\", x_max)\n",
    "print(f'h_(x_max): {h(x_max)}')\n",
    "print(\"x_start:\", [0, 0])\n"
   ]
  },
  {
   "cell_type": "markdown",
   "metadata": {},
   "source": [
    "### - Answer to Problem 2.3\n",
    "\n",
    "Solve the problem by using the quasi-Newton optimization routine \"fmin_bfgs\":\n",
    "\n",
    "(20p) Not providing gradient (fprime) or Hessian (like in \"scipy.optimize.fmin_ncg\")."
   ]
  },
  {
   "cell_type": "code",
   "execution_count": 9,
   "metadata": {
    "ExecuteTime": {
     "end_time": "2021-03-29T16:00:23.428119Z",
     "start_time": "2021-03-29T16:00:23.407395Z"
    }
   },
   "outputs": [
    {
     "name": "stdout",
     "output_type": "stream",
     "text": [
      "\n",
      "Minimum in 1st quadrant:\n",
      "Optimization terminated successfully.\n",
      "         Current function value: 0.000000\n",
      "         Iterations: 2\n",
      "         Function evaluations: 15\n",
      "         Gradient evaluations: 5\n",
      "x_opt_1: [2.48808134 3.80945122]\n",
      "h_(x_opt_1): 3.334783025101365e-15\n",
      "x_start_1: [2.48810154 3.80946346]\n",
      "\n",
      "Minimum in 2nd quadrant:\n",
      "Optimization terminated successfully.\n",
      "         Current function value: 0.000000\n",
      "         Iterations: 2\n",
      "         Function evaluations: 15\n",
      "         Gradient evaluations: 5\n",
      "x_opt_2: [-2.3662811  4.4007137]\n",
      "h_(x_opt_2): 5.1372098563556375e-15\n",
      "x_start_2: [-2.36632417  4.40071807]\n",
      "\n",
      "Minimum in 3rd quadrant:\n",
      "Optimization terminated successfully.\n",
      "         Current function value: 0.000000\n",
      "         Iterations: 2\n",
      "         Function evaluations: 15\n",
      "         Gradient evaluations: 5\n",
      "x_opt_3: [-3.81607968 -4.5624642 ]\n",
      "h_(x_opt_3): 9.265557730970313e-15\n",
      "x_start_3: [-3.81611395 -4.56248642]\n",
      "\n",
      "Minimum in 4th quadrant:\n",
      "Optimization terminated successfully.\n",
      "         Current function value: 0.000000\n",
      "         Iterations: 1\n",
      "         Function evaluations: 9\n",
      "         Gradient evaluations: 3\n",
      "x_opt_4: [ 3.69427944 -3.64770063]\n",
      "h_(x_opt_4): 4.592862449487349e-13\n",
      "x_start_4: [ 3.69430358 -3.6476957 ]\n",
      "\n",
      "Maximum :\n",
      "Optimization terminated successfully.\n",
      "         Current function value: -407.343841\n",
      "         Iterations: 6\n",
      "         Function evaluations: 24\n",
      "         Gradient evaluations: 8\n",
      "x_max: [-0.95712657 -0.26119846]\n",
      "h_(x_max): 407.34384079583\n",
      "x_start: [0, 0]\n"
     ]
    }
   ],
   "source": [
    "print(\"\\nMinimum in 1st quadrant:\")\n",
    "x_opt_1 = optimize.fmin_bfgs(h, x_start_1)\n",
    "print(\"x_opt_1:\", x_opt_1)\n",
    "print(f'h_(x_opt_1): {h(x_opt_1)}')\n",
    "print(\"x_start_1:\", x_start_1)\n",
    "\n",
    "print(\"\\nMinimum in 2nd quadrant:\")\n",
    "x_opt_2 = optimize.fmin_bfgs(h, x_start_2)\n",
    "print(\"x_opt_2:\", x_opt_2)\n",
    "print(f'h_(x_opt_2): {h(x_opt_2)}')\n",
    "print(\"x_start_2:\", x_start_2)\n",
    "\n",
    "print(\"\\nMinimum in 3rd quadrant:\")\n",
    "x_opt_3 = optimize.fmin_bfgs(h, x_start_3)\n",
    "print(\"x_opt_3:\", x_opt_3)\n",
    "print(f'h_(x_opt_3): {h(x_opt_3)}')\n",
    "print(\"x_start_3:\", x_start_3)\n",
    "\n",
    "print(\"\\nMinimum in 4th quadrant:\")\n",
    "x_opt_4 = optimize.fmin_bfgs(h, x_start_4)\n",
    "print(\"x_opt_4:\", x_opt_4)\n",
    "print(f'h_(x_opt_4): {h(x_opt_4)}')\n",
    "print(\"x_start_4:\", x_start_4)\n",
    "\n",
    "print(\"\\nMaximum :\")\n",
    "x_max = optimize.fmin_bfgs(lambda x:-h(x), (0,0))\n",
    "print(\"x_max:\", x_max)\n",
    "print(f'h_(x_max): {h(x_max)}')\n",
    "print(\"x_start:\", [0, 0])\n"
   ]
  },
  {
   "cell_type": "markdown",
   "metadata": {},
   "source": [
    "### - Answer to Problem 2.4\n",
    "\n",
    "Use JAX for computing the gradient and Hessian as in the lecture. (make sure the gradient and Hessian are correctly computed).\n",
    "\n",
    "(10p) Plot  ℎ(𝑥,𝑦)  in the given region  −10≤𝑥,𝑦≤10 ."
   ]
  },
  {
   "cell_type": "code",
   "execution_count": 10,
   "metadata": {
    "ExecuteTime": {
     "end_time": "2021-03-29T16:00:23.626765Z",
     "start_time": "2021-03-29T16:00:23.430261Z"
    }
   },
   "outputs": [
    {
     "name": "stderr",
     "output_type": "stream",
     "text": [
      "WARNING:absl:No GPU/TPU found, falling back to CPU. (Set TF_CPP_MIN_LOG_LEVEL=0 and rerun for more info.)\n"
     ]
    },
    {
     "data": {
      "text/plain": [
       "DeviceArray([0., 0.], dtype=float32)"
      ]
     },
     "execution_count": 10,
     "metadata": {},
     "output_type": "execute_result"
    },
    {
     "data": {
      "text/plain": [
       "DeviceArray([3.8146973e-06, 3.3574783e-05], dtype=float32)"
      ]
     },
     "execution_count": 10,
     "metadata": {},
     "output_type": "execute_result"
    },
    {
     "data": {
      "text/plain": [
       "DeviceArray([ 1.45571885e-05, -1.90734863e-06], dtype=float32)"
      ]
     },
     "execution_count": 10,
     "metadata": {},
     "output_type": "execute_result"
    },
    {
     "data": {
      "text/plain": [
       "DeviceArray([-3.8146973e-06,  2.7829747e-05], dtype=float32)"
      ]
     },
     "execution_count": 10,
     "metadata": {},
     "output_type": "execute_result"
    },
    {
     "data": {
      "text/plain": [
       "DeviceArray([-3.8146973e-06,  1.9073486e-06], dtype=float32)"
      ]
     },
     "execution_count": 10,
     "metadata": {},
     "output_type": "execute_result"
    },
    {
     "data": {
      "text/plain": [
       "DeviceArray([[ 51.524395,  25.19013 ],\n",
       "             [ 25.19013 , 118.095345]], dtype=float32)"
      ]
     },
     "execution_count": 10,
     "metadata": {},
     "output_type": "execute_result"
    },
    {
     "data": {
      "text/plain": [
       "DeviceArray([[ 46.79429 ,   8.137732],\n",
       "             [  8.137732, 156.93027 ]], dtype=float32)"
      ]
     },
     "execution_count": 10,
     "metadata": {},
     "output_type": "execute_result"
    },
    {
     "data": {
      "text/plain": [
       "DeviceArray([[118.49971 , -33.514175],\n",
       "             [-33.514175, 168.52864 ]], dtype=float32)"
      ]
     },
     "execution_count": 10,
     "metadata": {},
     "output_type": "execute_result"
    },
    {
     "data": {
      "text/plain": [
       "DeviceArray([[111.1816    ,   0.18631554],\n",
       "             [  0.18631554, 108.44575   ]], dtype=float32)"
      ]
     },
     "execution_count": 10,
     "metadata": {},
     "output_type": "execute_result"
    },
    {
     "data": {
      "text/plain": [
       "DeviceArray([[-28.051699,  -4.8733  ],\n",
       "             [ -4.8733  , -69.00981 ]], dtype=float32)"
      ]
     },
     "execution_count": 10,
     "metadata": {},
     "output_type": "execute_result"
    }
   ],
   "source": [
    "# Use JAX to make sure the gradient and Hessian are correctly computed\n",
    "\n",
    "def h(x):\n",
    "    return (x[0]**2 + x[1] - 10)**2 + (x[0] + x[1]**2 - 17)**2\n",
    "\n",
    "def minus_h(x):\n",
    "    return -((x[0]**2 + x[1] - 10)**2 + (x[0] + x[1]**2 - 17)**2)\n",
    "\n",
    "h = jit(h)\n",
    "h_prime = jit(grad(h))\n",
    "h_hessian = jit(hessian(h))\n",
    "\n",
    "# JAX\n",
    "x = np.array([1., 1.])\n",
    "h_prime(x_opt_1)\n",
    "h_prime(x_opt_2)\n",
    "h_prime(x_opt_3)\n",
    "h_prime(x_opt_4)\n",
    "h_prime(x_max)\n",
    "\n",
    "h_hessian(x_opt_1)\n",
    "h_hessian(x_opt_2)\n",
    "h_hessian(x_opt_3)\n",
    "h_hessian(x_opt_4)\n",
    "h_hessian(x_max)"
   ]
  },
  {
   "cell_type": "code",
   "execution_count": 11,
   "metadata": {
    "ExecuteTime": {
     "end_time": "2021-03-29T16:00:24.042578Z",
     "start_time": "2021-03-29T16:00:23.628197Z"
    }
   },
   "outputs": [
    {
     "data": {
      "image/png": "[encoded data removed]",
      "text/plain": [
       "<Figure size 288x288 with 2 Axes>"
      ]
     },
     "metadata": {
      "needs_background": "light"
     },
     "output_type": "display_data"
    }
   ],
   "source": [
    "def func_X_Y_to_XY(f, X, Y):\n",
    "    \"\"\"\n",
    "    Wrapper for f(X, Y) -> f([X, Y])\n",
    "    \"\"\"\n",
    "    s = np.shape(X)\n",
    "    return f(np.vstack([X.ravel(), Y.ravel()])).reshape(*s)\n",
    "\n",
    "fig, ax = plt.subplots(figsize=(4, 4))\n",
    "x_points = y_points = np.linspace(-10, 10, 100)\n",
    "X, Y = np.meshgrid(x_points, y_points)\n",
    "cf_lv = [2**x for x in range(16)]\n",
    "c = ax.contour(X, Y, func_X_Y_to_XY(h, X, Y), levels=cf_lv)\n",
    "\n",
    "ax.plot(x_opt_1[0], x_opt_1[1], 'r*', markersize=15)\n",
    "ax.plot(x_opt_2[0], x_opt_2[1], 'r*', markersize=15)\n",
    "ax.plot(x_opt_3[0], x_opt_3[1], 'r*', markersize=15)\n",
    "ax.plot(x_opt_4[0], x_opt_4[1], 'r*', markersize=15)\n",
    "ax.plot(x_max[0], x_max[1], 'b*', markersize=15)\n",
    "\n",
    "\n",
    "ax.set_xlabel(r\"$x$\", fontsize=18)\n",
    "ax.set_ylabel(r\"$y$\", fontsize=18)\n",
    "plt.colorbar(c, ax=ax)\n",
    "plt.show();\n"
   ]
  }
 ],
 "metadata": {
  "kernelspec": {
   "display_name": "Python 3",
   "language": "python",
   "name": "python3"
  },
  "language_info": {
   "codemirror_mode": {
    "name": "ipython",
    "version": 3
   },
   "file_extension": ".py",
   "mimetype": "text/x-python",
   "name": "python",
   "nbconvert_exporter": "python",
   "pygments_lexer": "ipython3",
   "version": "3.8.3"
  },
  "latex_envs": {
   "LaTeX_envs_menu_present": true,
   "autoclose": false,
   "autocomplete": true,
   "bibliofile": "biblio.bib",
   "cite_by": "apalike",
   "current_citInitial": 1,
   "eqLabelWithNumbers": true,
   "eqNumInitial": 1,
   "hotkeys": {
    "equation": "Ctrl-E",
    "itemize": "Ctrl-I"
   },
   "labels_anchors": false,
   "latex_user_defs": false,
   "report_style_numbering": false,
   "user_envs_cfg": false
  }
 },
 "nbformat": 4,
 "nbformat_minor": 2
}
