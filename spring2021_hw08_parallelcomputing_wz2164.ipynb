{
 "cells": [
  {
   "cell_type": "markdown",
   "metadata": {},
   "source": [
    "## Homework 08:  Parallel Programming 01\n",
    "\n",
    "## Due Date: Apr 12, 2021, 04:00pm\n",
    "\n",
    "#### Firstname Lastname: Wenxin Zhang\n",
    "\n",
    "#### E-mail: wz2164@nyu.edu\n",
    "\n",
    "#### Enter your solutions and submit this notebook"
   ]
  },
  {
   "cell_type": "markdown",
   "metadata": {},
   "source": [
    "---\n",
    "\n",
    "**Problem 1 (50p)**\n",
    "\n",
    "Write an MPI program `sol08pr01.py` that does the following for some arbitrary number of processes $N \\geq 2$. Here the number of processes $N$ is given as `N` while calling the code `sol08pr01.py` as: \n",
    "\n",
    "`mpirun -n N python3 sol08pr01.py`\n",
    "\n",
    "\n",
    "Every process will contain one buffer with one integer variable, each of which is initialized to $0$.\n",
    "\n",
    "For $r=0, 1, \\dots, N - 1$, Process $r$ updates its buffer to the value received by $r-1$ (this should only be done for $r \\geq 1$), then it squares its rank $r$, adds the result $r^2$ to the value of its own buffer, and then sends the sum to Process $r + 1$. Note that for $r=N-1$ the result will be sent to Process $0$, i.e. by convention, Process $N$ is the same as Process $0$. At the end Process $0$ prints the received value. \n",
    "\n",
    "Provide results for: $N = 10$, $N = 15$, $N = 20$, $N = 25$. These are probably more than the available processes on your machine: you can use the option `--oversubscribe` in `mpirun` to let MPI run things anyway.\n",
    "\n",
    "\n",
    "\n",
    "**Note**: You can use either blocking or non-blocking operations.Make sure to provide adequate comments and documentation in the code. \n",
    "\n"
   ]
  },
  {
   "cell_type": "code",
   "execution_count": 4,
   "metadata": {
    "ExecuteTime": {
     "end_time": "2021-04-12T15:49:56.230061Z",
     "start_time": "2021-04-12T15:49:56.224216Z"
    }
   },
   "outputs": [
    {
     "name": "stdout",
     "output_type": "stream",
     "text": [
      "Overwriting sol08pr01.py\n"
     ]
    }
   ],
   "source": [
    "%%writefile sol08pr01.py\n",
    "import numpy\n",
    "from mpi4py import MPI\n",
    "\n",
    "comm = MPI.COMM_WORLD\n",
    "rank = comm.Get_rank()\n",
    "N = comm.Get_size()\n",
    "\n",
    "value = numpy.zeros(1) \n",
    "\n",
    "### For the Process 0\n",
    "if rank == 0:\n",
    "    print(\"Process\", rank, \"before receiving has the number\", value[0])\n",
    "    \n",
    "    # Send the value to the Process 1\n",
    "    comm.Send(value, dest=1) \n",
    "    print(\"Process\", rank, \"drew the number\", value[0])\n",
    "    \n",
    "    # Receive the value from the Process N-1\n",
    "    comm.Recv(value, source=N-1)\n",
    "    print(\"Process\", rank, \"received the number\", value[0], \"from process \", N-1)\n",
    "    \n",
    "    \n",
    "### For the Process N-1\n",
    "elif rank == N-1:\n",
    "    print(\"Process\", rank, \"before receiving has the number\", value[0])\n",
    "    \n",
    "    # Receive the value from the Process N-2\n",
    "    comm.Recv(value, source=N-2)\n",
    "    print(\"Process\", rank, \"received the number\", value[0])  \n",
    "    \n",
    "    # Add r^2 to the value \n",
    "    value = value + rank**2\n",
    "    \n",
    "    # Send the updated value to the Process 0\n",
    "    comm.Send(value, dest=0) \n",
    "\n",
    "    \n",
    "### For the Process rank_i, where i belongs to (1, 2, 3, ... N-2)\n",
    "else:\n",
    "    print(\"Process\", rank, \"before receiving has the number\", value[0])\n",
    "    \n",
    "    # Receive the value from the Process rank-1\n",
    "    comm.Recv(value, source=rank-1)\n",
    "    print(\"Process\", rank, \"received the number\", value[0])    \n",
    "\n",
    "    # Add r^2 to the value \n",
    "    value = value + rank**2\n",
    "    \n",
    "    # Send the updated value to the Process rank+1\n",
    "    comm.Send(value, dest=rank+1) "
   ]
  },
  {
   "cell_type": "code",
   "execution_count": 7,
   "metadata": {
    "ExecuteTime": {
     "end_time": "2021-04-12T15:50:13.812259Z",
     "start_time": "2021-04-12T15:50:13.690820Z"
    }
   },
   "outputs": [
    {
     "name": "stdout",
     "output_type": "stream",
     "text": [
      "zsh:1: command not found: mpiexec\r\n"
     ]
    }
   ],
   "source": [
    "# !mpirun -n 10 -oversubscribe python3 sol08pr01.py"
   ]
  },
  {
   "cell_type": "code",
   "execution_count": 6,
   "metadata": {
    "ExecuteTime": {
     "end_time": "2021-04-12T15:50:01.346216Z",
     "start_time": "2021-04-12T15:50:01.224511Z"
    }
   },
   "outputs": [
    {
     "name": "stdout",
     "output_type": "stream",
     "text": [
      "zsh:1: command not found: mpirun\r\n"
     ]
    }
   ],
   "source": [
    "# !mpirun -n 15 python3 sol08pr01.py"
   ]
  },
  {
   "cell_type": "code",
   "execution_count": 9,
   "metadata": {},
   "outputs": [
    {
     "name": "stdout",
     "output_type": "stream",
     "text": [
      "Process 1 before receiving has the number 0.0\n",
      "Process 1 received the number 0.0\n",
      "Process 2 before receiving has the number 0.0\n",
      "Process 2 received the number 1.0\n",
      "Process 3 before receiving has the number 0.0\n",
      "Process 3 received the number 5.0\n",
      "Process 4 before receiving has the number 0.0\n",
      "Process 4 received the number 14.0\n",
      "Process 5 before receiving has the number 0.0\n",
      "Process 5 received the number 30.0\n",
      "Process 6 before receiving has the number 0.0\n",
      "Process 6 received the number 55.0\n",
      "Process 7 before receiving has the number 0.0\n",
      "Process 7 received the number 91.0\n",
      "Process 8 before receiving has the number 0.0\n",
      "Process 8 received the number 140.0\n",
      "Process 9 before receiving has the number 0.0\n",
      "Process 9 received the number 204.0\n",
      "Process 10 before receiving has the number 0.0\n",
      "Process 10 received the number 285.0\n",
      "Process 11 before receiving has the number 0.0\n",
      "Process 11 received the number 385.0\n",
      "Process 12 before receiving has the number 0.0\n",
      "Process 12 received the number 506.0\n",
      "Process 13 before receiving has the number 0.0\n",
      "Process 13 received the number 650.0\n",
      "Process 14 before receiving has the number 0.0\n",
      "Process 14 received the number 819.0\n",
      "Process 15 before receiving has the number 0.0\n",
      "Process 15 received the number 1015.0\n",
      "Process 16 before receiving has the number 0.0\n",
      "Process 16 received the number 1240.0\n",
      "Process 17 before receiving has the number 0.0\n",
      "Process 17 received the number 1496.0\n",
      "Process 18 before receiving has the number 0.0\n",
      "Process 18 received the number 1785.0\n",
      "Process 19 before receiving has the number 0.0\n",
      "Process 19 received the number 2109.0\n",
      "Process 0 before receiving has the number 0.0\n",
      "Process 0 drew the number 0.0\n",
      "Process 0 received the number 2470.0 from process  19\n"
     ]
    }
   ],
   "source": [
    "!mpirun -n 20 python3 sol08pr01.py"
   ]
  },
  {
   "cell_type": "code",
   "execution_count": 10,
   "metadata": {},
   "outputs": [
    {
     "name": "stdout",
     "output_type": "stream",
     "text": [
      "Process 1 before receiving has the number 0.0\n",
      "Process 1 received the number 0.0\n",
      "Process 2 before receiving has the number 0.0\n",
      "Process 2 received the number 1.0\n",
      "Process 3 before receiving has the number 0.0\n",
      "Process 3 received the number 5.0\n",
      "Process 4 before receiving has the number 0.0\n",
      "Process 4 received the number 14.0\n",
      "Process 5 before receiving has the number 0.0\n",
      "Process 5 received the number 30.0\n",
      "Process 6 before receiving has the number 0.0\n",
      "Process 6 received the number 55.0\n",
      "Process 7 before receiving has the number 0.0\n",
      "Process 7 received the number 91.0\n",
      "Process 8 before receiving has the number 0.0\n",
      "Process 8 received the number 140.0\n",
      "Process 9 before receiving has the number 0.0\n",
      "Process 9 received the number 204.0\n",
      "Process 10 before receiving has the number 0.0\n",
      "Process 10 received the number 285.0\n",
      "Process 11 before receiving has the number 0.0\n",
      "Process 11 received the number 385.0\n",
      "Process 12 before receiving has the number 0.0\n",
      "Process 12 received the number 506.0\n",
      "Process 13 before receiving has the number 0.0\n",
      "Process 13 received the number 650.0\n",
      "Process 14 before receiving has the number 0.0\n",
      "Process 14 received the number 819.0\n",
      "Process 15 before receiving has the number 0.0\n",
      "Process 15 received the number 1015.0\n",
      "Process 16 before receiving has the number 0.0\n",
      "Process 16 received the number 1240.0\n",
      "Process 17 before receiving has the number 0.0\n",
      "Process 17 received the number 1496.0\n",
      "Process 18 before receiving has the number 0.0\n",
      "Process 18 received the number 1785.0\n",
      "Process 19 before receiving has the number 0.0\n",
      "Process 19 received the number 2109.0\n",
      "Process 20 before receiving has the number 0.0\n",
      "Process 20 received the number 2470.0\n",
      "Process 21 before receiving has the number 0.0\n",
      "Process 21 received the number 2870.0\n",
      "Process 22 before receiving has the number 0.0\n",
      "Process 22 received the number 3311.0\n",
      "Process 23 before receiving has the number 0.0\n",
      "Process 23 received the number 3795.0\n",
      "Process 24 before receiving has the number 0.0\n",
      "Process 24 received the number 4324.0\n",
      "Process 0 before receiving has the number 0.0\n",
      "Process 0 drew the number 0.0\n",
      "Process 0 received the number 4900.0 from process  24\n"
     ]
    }
   ],
   "source": [
    "!mpirun -n 25 python3 sol08pr01.py"
   ]
  },
  {
   "cell_type": "markdown",
   "metadata": {},
   "source": [
    "---\n",
    "\n",
    "**Problem 2 (50p)**\n",
    "\n",
    "Write an MPI program that does the following. There are two processes 0 and 1 that have to exchange $T=10$ messages.  \n",
    "\n",
    "\n",
    "Process 0 initially reads two float variables from the standard input, call them $x, y$, and must ensure $x \\neq 0$ and $y \\neq 0$. For example this can be done as:\n",
    "\n",
    "```\n",
    "import sys\n",
    "\n",
    "\n",
    "for line in sys.stdin:\n",
    "    x = float(line)        \n",
    "    if x != 0.0:\n",
    "        break\n",
    "for line in sys.stdin:\n",
    "    y = float(line)        \n",
    "    if y != 0.0:\n",
    "        break\n",
    "```\n",
    "\n",
    "\n",
    "Both Process 0 and Process 1 will carry main results in an element that is part of a process buffer and called $p$. The value in $p$ is initially set to $1$. \n",
    "\n",
    "\n",
    "Now the exchange of messages is as follows.\n",
    "\n",
    "\n",
    "0. Message00: Process 0 multiplies its own value in $p$ by $x$ and sends the whole buffer to Process 1.\n",
    "\n",
    "1. Message01: Process 1 divides its own value in $p$ by $y$ and sends the whole buffer to Process 0.\n",
    "\n",
    "2. Message01: Process 0 multiplies its own value in $p$ by $x$ and sends the whole buffer to Process 1.\n",
    "\n",
    "3. Message02: Process 1 divides its own value in $p$ by $y$ and sends the whole buffer to Process 0.\n",
    "\n",
    "\n",
    "etc.\n",
    "\n",
    "8. Message08: Process 0 multiplies its own value in $p$ by $x$ and sends the whole buffer to Process 1.\n",
    "\n",
    "9. Message09: Process 1 divides its own value in $p$ by $y$ and sends the whole buffer to Process 0.\n",
    "\n",
    "Finally, Process 0 prints the value in $p$ as a final result. \n",
    "\n",
    "\n",
    "Write the code that implements the protocol above. Additionally, provide results for: $(x, y) = (2, 4)$, $(x, y) = (1, 3)$, $(x, y) = (5, 7)$ and $(x, y) = (5, 10)$.\n",
    "\n",
    "\n",
    "**Note**: You can use either blocking or non-blocking operations.Make sure to provide adequate comments and documentation in the code.\n",
    "\n"
   ]
  },
  {
   "cell_type": "code",
   "execution_count": 11,
   "metadata": {},
   "outputs": [
    {
     "name": "stdout",
     "output_type": "stream",
     "text": [
      "Writing sol08pr02.py\n"
     ]
    }
   ],
   "source": [
    "%%writefile sol08pr02.py\n",
    "import sys\n",
    "import numpy as np\n",
    "from mpi4py import MPI\n",
    "\n",
    "x = float(sys.argv[1])\n",
    "y = float(sys.argv[2])\n",
    "comm = MPI.COMM_WORLD\n",
    "rank = comm.Get_rank()\n",
    "\n",
    "p_init = 1.0\n",
    "element= np.array([p_init, x, y])\n",
    "\n",
    "### Regard Process0->Process1->Process0 as a loop\n",
    "for i in range(5):\n",
    "    if rank == 0:\n",
    "        # Multiply p by x\n",
    "        element[0] = element[0] * element[1]\n",
    "        \n",
    "        # Send the updated value of p to Process 1 with tag=0\n",
    "        comm.Send(element, dest=1, tag=0)\n",
    "        \n",
    "        # Receive the updated value from Process 1 with tag=1\n",
    "        comm.Recv(element, source=1, tag=1)\n",
    "     \n",
    "        # Get the output when i = 4\n",
    "        if i == 4:\n",
    "            print(\"Final p:\", element[0])\n",
    "\n",
    "    else:\n",
    "        # Receive the updated value from Process 0 with tag=0\n",
    "        comm.Recv(element, source=0, tag=0)\n",
    "        \n",
    "        # Divide p by y\n",
    "        element[0] = float(element[0] / element[2])\n",
    "        \n",
    "        # Send the updated value of p to Process 0 with tag=1\n",
    "        comm.Send(element, dest=0, tag=1)"
   ]
  },
  {
   "cell_type": "code",
   "execution_count": 12,
   "metadata": {},
   "outputs": [
    {
     "name": "stdout",
     "output_type": "stream",
     "text": [
      "Final p: 0.03125\r\n"
     ]
    }
   ],
   "source": [
    "!mpirun -n 2 python3 sol08pr02.py 2 4"
   ]
  },
  {
   "cell_type": "code",
   "execution_count": 13,
   "metadata": {},
   "outputs": [
    {
     "name": "stdout",
     "output_type": "stream",
     "text": [
      "Final p: 0.004115226337448559\r\n"
     ]
    }
   ],
   "source": [
    "!mpirun -n 2 python3 sol08pr02.py 1 3"
   ]
  },
  {
   "cell_type": "code",
   "execution_count": 14,
   "metadata": {},
   "outputs": [
    {
     "name": "stdout",
     "output_type": "stream",
     "text": [
      "Final p: 0.1859344320818706\r\n"
     ]
    }
   ],
   "source": [
    "!mpirun -n 2 python3 sol08pr02.py 5 7 "
   ]
  },
  {
   "cell_type": "code",
   "execution_count": 15,
   "metadata": {},
   "outputs": [
    {
     "name": "stdout",
     "output_type": "stream",
     "text": [
      "Final p: 0.03125\r\n"
     ]
    }
   ],
   "source": [
    "!mpirun -n 2 python3 sol08pr02.py 5 10"
   ]
  },
  {
   "cell_type": "code",
   "execution_count": null,
   "metadata": {},
   "outputs": [],
   "source": []
  }
 ],
 "metadata": {
  "hide_input": false,
  "kernelspec": {
   "display_name": "Python 3",
   "language": "python",
   "name": "python3"
  },
  "language_info": {
   "codemirror_mode": {
    "name": "ipython",
    "version": 3
   },
   "file_extension": ".py",
   "mimetype": "text/x-python",
   "name": "python",
   "nbconvert_exporter": "python",
   "pygments_lexer": "ipython3",
   "version": "3.8.3"
  },
  "latex_envs": {
   "LaTeX_envs_menu_present": true,
   "autoclose": false,
   "autocomplete": true,
   "bibliofile": "biblio.bib",
   "cite_by": "apalike",
   "current_citInitial": 1,
   "eqLabelWithNumbers": true,
   "eqNumInitial": 1,
   "hotkeys": {
    "equation": "Ctrl-E",
    "itemize": "Ctrl-I"
   },
   "labels_anchors": false,
   "latex_user_defs": false,
   "report_style_numbering": false,
   "user_envs_cfg": false
  },
  "nbTranslate": {
   "displayLangs": [
    "*"
   ],
   "hotkey": "alt-t",
   "langInMainMenu": true,
   "sourceLang": "en",
   "targetLang": "fr",
   "useGoogleTranslate": true
  },
  "toc": {
   "base_numbering": 1,
   "nav_menu": {},
   "number_sections": true,
   "sideBar": true,
   "skip_h1_title": false,
   "title_cell": "Table of Contents",
   "title_sidebar": "Contents",
   "toc_cell": false,
   "toc_position": {},
   "toc_section_display": true,
   "toc_window_display": false
  },
  "varInspector": {
   "cols": {
    "lenName": 16,
    "lenType": 16,
    "lenVar": 40
   },
   "kernels_config": {
    "python": {
     "delete_cmd_postfix": "",
     "delete_cmd_prefix": "del ",
     "library": "var_list.py",
     "varRefreshCmd": "print(var_dic_list())"
    },
    "r": {
     "delete_cmd_postfix": ") ",
     "delete_cmd_prefix": "rm(",
     "library": "var_list.r",
     "varRefreshCmd": "cat(var_dic_list()) "
    }
   },
   "types_to_exclude": [
    "module",
    "function",
    "builtin_function_or_method",
    "instance",
    "_Feature"
   ],
   "window_display": false
  }
 },
 "nbformat": 4,
 "nbformat_minor": 2
}
