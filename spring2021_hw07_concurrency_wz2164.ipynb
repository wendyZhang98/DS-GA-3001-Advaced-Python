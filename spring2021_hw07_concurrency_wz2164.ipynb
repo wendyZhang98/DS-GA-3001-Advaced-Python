{
 "cells": [
  {
   "cell_type": "markdown",
   "metadata": {},
   "source": [
    "### Homework 07: Concurrency\n",
    "\n",
    "## Due Date: Apr 5, 2021, 04:00pm\n",
    "\n",
    "#### Firstname Lastname: WenxinZhang\n",
    "\n",
    "#### E-mail: wz2164@nyu.edu\n",
    "\n",
    "#### Enter your solutions and submit this notebook\n"
   ]
  },
  {
   "cell_type": "code",
   "execution_count": 1,
   "metadata": {
    "ExecuteTime": {
     "end_time": "2021-04-05T16:48:08.148100Z",
     "start_time": "2021-04-05T16:48:07.759610Z"
    }
   },
   "outputs": [],
   "source": [
    "from time import time\n",
    "import numpy as np\n",
    "import math\n",
    "from multiprocess import Pool\n",
    "from queue import Queue\n",
    "from threading import Thread, Lock\n",
    "import logging  \n",
    "import requests"
   ]
  },
  {
   "cell_type": "markdown",
   "metadata": {},
   "source": [
    "---\n",
    "\n",
    "**Problem 1** **(60 Points)**\n",
    "\n",
    "Let us consider the Gamma function, or the Euler integral of the second kind: \n",
    "\n",
    "$$\\Gamma(x) = \\int_{0} ^ \\infty t ^{x - 1} e^{-t} dt, $$\n",
    "\n",
    "and in this HW we consider real $x > 0$."
   ]
  },
  {
   "cell_type": "markdown",
   "metadata": {},
   "source": [
    "(Here is more on the Gamma function https://en.wikipedia.org/wiki/Gamma_function .\n",
    "It is not needed for this HW assignment.) "
   ]
  },
  {
   "cell_type": "markdown",
   "metadata": {},
   "source": [
    "**1.1 (Points 15)**: \n",
    "\n",
    "Write a function (in the cell below) that sequentially calculates the given Gamma integral.\n"
   ]
  },
  {
   "cell_type": "markdown",
   "metadata": {},
   "source": [
    "# Answer to 1.1"
   ]
  },
  {
   "cell_type": "code",
   "execution_count": 2,
   "metadata": {
    "ExecuteTime": {
     "end_time": "2021-04-05T16:48:08.710552Z",
     "start_time": "2021-04-05T16:48:08.707085Z"
    }
   },
   "outputs": [],
   "source": [
    "def calculate_gamma(x, bound_1, bound_2, number_of_steps):\n",
    "    # sequential version to calculate Gamma(x):\n",
    "    # where we approximate the given integral,\n",
    "    # like this a discrete sum in number_of_steps\n",
    "    # equidistant points on the interval [bound_1, bound_2]\n",
    "    \n",
    "    # return Gamma(x)\n",
    "    gamma = 0\n",
    "    for t in np.linspace(bound_1, bound_2, number_of_steps):\n",
    "        gamma += ((bound_2-bound_1)/number_of_steps) * t ** (x-1) * math.exp(-t) \n",
    "    return gamma"
   ]
  },
  {
   "cell_type": "markdown",
   "metadata": {},
   "source": [
    "**1.2 (Points 5)** \n",
    "\n",
    "Evaluate, $\\Gamma(6)$ by using `calculate_gamma(x, bound_1, bound_2, number_of_steps)` and the error of this computation.\n",
    "\n",
    "\n",
    "As arguments, use `x=6, bound_1=0, bound_2=1000, number_of_steps=10_000_000`. We know that $\\Gamma(x) = x!$, so $\\Gamma(6) = 5! = 120$. \n"
   ]
  },
  {
   "cell_type": "markdown",
   "metadata": {},
   "source": [
    "# Answer to 1.2"
   ]
  },
  {
   "cell_type": "code",
   "execution_count": 3,
   "metadata": {
    "ExecuteTime": {
     "end_time": "2021-04-05T16:48:09.145038Z",
     "start_time": "2021-04-05T16:48:09.142660Z"
    }
   },
   "outputs": [],
   "source": [
    "x = 6 \n",
    "bound_1 = 0\n",
    "bound_2 = 1000\n",
    "number_of_steps = 10_000_000"
   ]
  },
  {
   "cell_type": "code",
   "execution_count": 4,
   "metadata": {
    "ExecuteTime": {
     "end_time": "2021-04-05T16:48:18.342984Z",
     "start_time": "2021-04-05T16:48:09.167549Z"
    }
   },
   "outputs": [
    {
     "name": "stdout",
     "output_type": "stream",
     "text": [
      "The evaluated gamma equals to 119.99998799994694\n",
      "The error of this computation equals to -1.2000053061456128e-05\n",
      "The time needed to sequentially calculate the given Gamma integral is: 9.172012090682983 seconds\n"
     ]
    }
   ],
   "source": [
    "# sequentially calculate the given Gamma integral\n",
    "start = time()\n",
    "evaluated_gamma = calculate_gamma(x=x, bound_1=bound_1, bound_2=bound_2, number_of_steps=number_of_steps)\n",
    "print(f'The evaluated gamma equals to {evaluated_gamma}')\n",
    "print(f'The error of this computation equals to {evaluated_gamma-120}')\n",
    "end = time()\n",
    "print(f'The time needed to sequentially calculate the given Gamma integral is: {end-start} seconds')"
   ]
  },
  {
   "cell_type": "markdown",
   "metadata": {},
   "source": [
    "---\n",
    "\n",
    "Write two functions to calculate $\\Gamma(x)$ by using:\n",
    "\n",
    "\n",
    "\n",
    "**1.3.1 (Points 15)**\n",
    "**threading** with N=4 threads; \n",
    "\n",
    "**1.3.2 (Points 15)**\n",
    "**multiprocessing** with N=4 processes. \n",
    "\n",
    "\n",
    "**1.3.3 (Points 10)** \n",
    "Compare the times of the three versions and write a short explanation of what you are observing.\n",
    "\n",
    "How does the answer change when N=8 and why?\n",
    "\n",
    "    "
   ]
  },
  {
   "cell_type": "markdown",
   "metadata": {},
   "source": [
    "# Answer to 1.3.1\n",
    "\n",
    "**1.3.1 (Points 15)**\n",
    "**threading** with N=4 threads; "
   ]
  },
  {
   "cell_type": "code",
   "execution_count": 5,
   "metadata": {
    "ExecuteTime": {
     "end_time": "2021-04-05T16:48:18.349148Z",
     "start_time": "2021-04-05T16:48:18.345365Z"
    }
   },
   "outputs": [],
   "source": [
    "lock = Lock()\n",
    "gamma = 0 \n",
    "def sum_chunk_thread(q):\n",
    "    while True:\n",
    "        global gamma\n",
    "        x, bound_1, bound_2, number_of_steps = q.get()\n",
    "        for t in np.linspace(bound_1, bound_2, number_of_steps):\n",
    "            lock.acquire()\n",
    "            gamma += ((bound_2-bound_1)/number_of_steps) * t ** (x-1) * math.exp(-t) \n",
    "            lock.release()\n",
    "        q.task_done()\n",
    "    return gamma"
   ]
  },
  {
   "cell_type": "code",
   "execution_count": 6,
   "metadata": {
    "ExecuteTime": {
     "end_time": "2021-04-05T16:48:30.123628Z",
     "start_time": "2021-04-05T16:48:18.351401Z"
    }
   },
   "outputs": [
    {
     "name": "stdout",
     "output_type": "stream",
     "text": [
      "The evaluated gamma equals to 119.99995199994225\n",
      "The error of this computation equals to -4.800005774541205e-05\n",
      "The time needed to sequentially calculate the given Gamma integral is: 11.765336990356445 seconds\n"
     ]
    }
   ],
   "source": [
    "# N = 4\n",
    "# Threading\n",
    "num_thread = 4\n",
    "chunks = [[x, i*(bound_2-bound_1)/num_thread, (i+1)*(bound_2-bound_1)/num_thread, int(number_of_steps/num_thread)] for i in range(num_thread)]\n",
    "\n",
    "\n",
    "q = Queue()\n",
    "start = time()\n",
    "for i in range(num_thread):\n",
    "    worker = Thread(target=sum_chunk_thread, args=(q,), name='thread_' + str(i))\n",
    "    worker.setDaemon(True)  \n",
    "    worker.start()         \n",
    "    \n",
    "\n",
    "for chunk in chunks:\n",
    "    q.put(chunk)\n",
    "q.join()\n",
    "end = time()\n",
    "\n",
    "\n",
    "print(f'The evaluated gamma equals to {gamma}')\n",
    "print(f'The error of this computation equals to {gamma-120}')\n",
    "print(f'The time needed to sequentially calculate the given Gamma integral is: {end-start} seconds')  "
   ]
  },
  {
   "cell_type": "markdown",
   "metadata": {},
   "source": [
    "# Answer to 1.3.2\n",
    "\n",
    "**1.3.2 (Points 15)**\n",
    "**multiprocessing** with N=4 processes. "
   ]
  },
  {
   "cell_type": "code",
   "execution_count": 7,
   "metadata": {
    "ExecuteTime": {
     "end_time": "2021-04-05T16:48:30.131549Z",
     "start_time": "2021-04-05T16:48:30.127817Z"
    }
   },
   "outputs": [],
   "source": [
    "def sum_chunk_multiprocesses(input):\n",
    "    x, bound_1, bound_2, num_of_steps = input\n",
    "    gamma = 0\n",
    "    for t in np.linspace(bound_1, bound_2, number_of_steps):\n",
    "        gamma += ((bound_2-bound_1)/number_of_steps) * t ** (x-1) * math.exp(-t) \n",
    "    return gamma"
   ]
  },
  {
   "cell_type": "code",
   "execution_count": 8,
   "metadata": {
    "ExecuteTime": {
     "end_time": "2021-04-05T16:48:41.968798Z",
     "start_time": "2021-04-05T16:48:30.133493Z"
    }
   },
   "outputs": [
    {
     "name": "stdout",
     "output_type": "stream",
     "text": [
      "The evaluated gamma equals to 119.99998799977556\n",
      "The error of this computation equals to -1.2000224444363994e-05\n",
      "The time needed to sequentially calculate the given Gamma integral is: 11.823247194290161 seconds\n"
     ]
    }
   ],
   "source": [
    "# N = 4\n",
    "# Multiprocessing\n",
    "num_process = 4\n",
    "chunks = [[x, i*(bound_2-bound_1)/num_process, (i+1)*(bound_2-bound_1)/num_process, int(number_of_steps/num_process)] for i in range(num_process)]\n",
    "\n",
    "\n",
    "start = time()\n",
    "with Pool(num_process) as pool:\n",
    "    results = pool.map(sum_chunk_multiprocesses, chunks)\n",
    "end = time()\n",
    "\n",
    "\n",
    "print(f'The evaluated gamma equals to {sum(results)}')\n",
    "print(f'The error of this computation equals to {sum(results)-120}')\n",
    "print(f'The time needed to sequentially calculate the given Gamma integral is: {end-start} seconds') "
   ]
  },
  {
   "cell_type": "markdown",
   "metadata": {},
   "source": [
    "# Answer to 1.3.3\n",
    "\n",
    "**1.3.3 (Points 10)** \n",
    "Compare the times of the three versions and write a short explanation of what you are observing.\n",
    "\n",
    "How does the answer change when N=8 and why?"
   ]
  },
  {
   "cell_type": "markdown",
   "metadata": {},
   "source": [
    "### Compare the times of the three versions: \n",
    "\n",
    "- The sequentially calculated version requires nearly 9.21 seconds.\n",
    "- The threading version (with N = 4 threads) requires nearly 11.77 seconds.\n",
    "- The multiprocessing version (with N = 4 processes) requires nearly 11.82 seconds. \n",
    "---\n",
    "- I observe that neiter the threading version nor the multiprocessing version increases the speed of calculating gammma.\n",
    "- This phenomenon can be explained by the fact that both of these are not really parallel. Since python has a GIL, this code is cocurrent but not parallel.\n",
    "\n",
    "### How does the answer change when N = 8: \n",
    "- The threading version (with N = 8 threads) requires nearly 12.39 seconds.\n",
    "- The multiprocessing version (with N = 8 processes) requires nearly 25.33 seconds. \n",
    "--- \n",
    "- I obeserve that the time required for the threading version and the multiprocessing version both increase.\n",
    "- This phenomenon can be explained by the fact that the new task(N=8) is CPU bound. Thus using the threading or processing module in Python with a GIL could actually result in reduced performance.\n"
   ]
  },
  {
   "cell_type": "code",
   "execution_count": 9,
   "metadata": {
    "ExecuteTime": {
     "end_time": "2021-04-05T16:48:54.374653Z",
     "start_time": "2021-04-05T16:48:41.974209Z"
    }
   },
   "outputs": [
    {
     "name": "stdout",
     "output_type": "stream",
     "text": [
      "The evaluated gamma equals to 239.99985599982531\n",
      "The error of this computation equals to 119.99985599982531\n",
      "The time needed to sequentially calculate the given Gamma integral is: 12.390151977539062 seconds\n"
     ]
    }
   ],
   "source": [
    "# N = 8\n",
    "# Threading\n",
    "num_thread = 8\n",
    "chunks = [[x, i*(bound_2-bound_1)/num_thread, (i+1)*(bound_2-bound_1)/num_thread, int(number_of_steps/num_thread)] for i in range(num_thread)]\n",
    "\n",
    "\n",
    "q = Queue()\n",
    "start = time()\n",
    "for i in range(num_thread):\n",
    "    worker = Thread(target=sum_chunk_thread, args=(q,), name='thread_' + str(i))\n",
    "    worker.setDaemon(True)  \n",
    "    worker.start()         \n",
    "    \n",
    "\n",
    "for chunk in chunks:\n",
    "    q.put(chunk)\n",
    "q.join()\n",
    "end = time()\n",
    "\n",
    "\n",
    "print(f'The evaluated gamma equals to {gamma}')\n",
    "print(f'The error of this computation equals to {gamma-120}')\n",
    "print(f'The time needed to sequentially calculate the given Gamma integral is: {end-start} seconds')  "
   ]
  },
  {
   "cell_type": "code",
   "execution_count": 10,
   "metadata": {
    "ExecuteTime": {
     "end_time": "2021-04-05T16:49:19.711387Z",
     "start_time": "2021-04-05T16:48:54.377107Z"
    }
   },
   "outputs": [
    {
     "name": "stdout",
     "output_type": "stream",
     "text": [
      "The evaluated gamma equals to 119.99998799954126\n",
      "The error of this computation equals to -1.2000458738725683e-05\n",
      "The time needed to sequentially calculate the given Gamma integral is: 25.326115131378174 seconds\n"
     ]
    }
   ],
   "source": [
    "# N = 8\n",
    "# Multiprocessing\n",
    "num_process = 8\n",
    "chunks = [[x, i*(bound_2-bound_1)/num_process, (i+1)*(bound_2-bound_1)/num_process, int(number_of_steps/num_process)] for i in range(num_process)]\n",
    "\n",
    "\n",
    "start = time()\n",
    "with Pool(num_process) as pool:\n",
    "    results = pool.map(sum_chunk_multiprocesses, chunks)\n",
    "end = time()\n",
    "\n",
    "\n",
    "print(f'The evaluated gamma equals to {sum(results)}')\n",
    "print(f'The error of this computation equals to {sum(results)-120}')\n",
    "print(f'The time needed to sequentially calculate the given Gamma integral is: {end-start} seconds') "
   ]
  },
  {
   "cell_type": "markdown",
   "metadata": {},
   "source": [
    "---\n",
    "\n",
    "**Problem 2 (40 points)**\n",
    "\n",
    "__Website uptime__ is the time that a website or web service is available to the users over a given period.\n",
    "\n",
    "The task is to build an application that checks the uptime of websites. \n",
    "\n",
    "- The application should go over a list of website URLs and checks if those websites are up.\n",
    "- Instead of performing a classic HTTP GET request, it performs a HEAD request so that it does not affect traffic significantly.\n",
    "- If the HTTP status is in the danger ranges (400+, 500+), a message is casted. \n",
    "\n",
    "Here are some useful functions:"
   ]
  },
  {
   "cell_type": "code",
   "execution_count": 11,
   "metadata": {
    "ExecuteTime": {
     "end_time": "2021-04-05T16:49:19.720954Z",
     "start_time": "2021-04-05T16:49:19.713974Z"
    }
   },
   "outputs": [],
   "source": [
    "#### _website uptimer_ ####\n",
    "class WebsiteDownException(Exception):\n",
    "    pass\n",
    " \n",
    "def ping_website(address, timeout=20):\n",
    "    \"\"\"\n",
    "    Check if a website is down. A website is considered down \n",
    "    if either the status_code >= 400 or if the timeout expires\n",
    "     \n",
    "    Throw a WebsiteDownException if any of the website down conditions are met\n",
    "    \"\"\"\n",
    "    try:\n",
    "        response = requests.head(address, timeout=timeout)\n",
    "        if response.status_code >= 400:\n",
    "            logging.warning(\"Website %s returned status_code=%s\" % (address, response.status_code))\n",
    "            raise WebsiteDownException()\n",
    "    except requests.exceptions.RequestException:\n",
    "        logging.warning(\"Timeout expired for website %s\" % address)\n",
    "        raise WebsiteDownException()\n",
    "         \n",
    "def check_website(address):\n",
    "    \"\"\"\n",
    "    Utility function: check if a website is down, if so, notify the user\n",
    "    \"\"\"\n",
    "    try:\n",
    "        ping_website(address)\n",
    "    except WebsiteDownException:\n",
    "        print('The websie ' + address + ' is down')"
   ]
  },
  {
   "cell_type": "markdown",
   "metadata": {},
   "source": [
    "---\n",
    "\n",
    "You need a website list to try our system out. Create your own list or use the following one. \n",
    "\n",
    "---"
   ]
  },
  {
   "cell_type": "code",
   "execution_count": 12,
   "metadata": {
    "ExecuteTime": {
     "end_time": "2021-04-05T16:49:19.726155Z",
     "start_time": "2021-04-05T16:49:19.722508Z"
    }
   },
   "outputs": [],
   "source": [
    "WEBSITE_LIST = [\n",
    "    'http://amazon.co.uk',\n",
    "    'http://amazon.com',\n",
    "    'http://facebook.com',\n",
    "    'http://google.com',\n",
    "    'http://google.fr',\n",
    "    'http://google.es',\n",
    "    'http://google.co.uk',\n",
    "    'http://gmail.com',\n",
    "    'http://stackoverflow.com',\n",
    "    'http://github.com',\n",
    "    'http://heroku.com',\n",
    "    'http://really-cool-available-domain.com',\n",
    "    'http://djangoproject.com',\n",
    "    'http://rubyonrails.org',\n",
    "    'http://basecamp.com',\n",
    "    'http://trello.com',\n",
    "    'http://shopify.com',\n",
    "    'http://another-really-interesting-domain.co',\n",
    "    'http://airbnb.com',\n",
    "    'http://instagram.com',\n",
    "    'http://snapchat.com',\n",
    "    'http://youtube.com',\n",
    "    'http://baidu.com',\n",
    "    'http://yahoo.com',\n",
    "    'http://live.com',\n",
    "    'http://linkedin.com',\n",
    "    'http://netflix.com',\n",
    "    'http://wordpress.com',\n",
    "    'http://bing.com',\n",
    "]"
   ]
  },
  {
   "cell_type": "markdown",
   "metadata": {},
   "source": [
    "---\n",
    "\n",
    "A serial version of the _website uptimer_ can be written as: \n",
    "\n",
    "---\n"
   ]
  },
  {
   "cell_type": "code",
   "execution_count": 13,
   "metadata": {
    "ExecuteTime": {
     "end_time": "2021-04-05T16:51:48.520849Z",
     "start_time": "2021-04-05T16:49:19.727948Z"
    }
   },
   "outputs": [
    {
     "name": "stderr",
     "output_type": "stream",
     "text": [
      "WARNING:root:Timeout expired for website http://facebook.com\n"
     ]
    },
    {
     "name": "stdout",
     "output_type": "stream",
     "text": [
      "The websie http://facebook.com is down\n"
     ]
    },
    {
     "name": "stderr",
     "output_type": "stream",
     "text": [
      "WARNING:root:Timeout expired for website http://google.com\n"
     ]
    },
    {
     "name": "stdout",
     "output_type": "stream",
     "text": [
      "The websie http://google.com is down\n"
     ]
    },
    {
     "name": "stderr",
     "output_type": "stream",
     "text": [
      "WARNING:root:Timeout expired for website http://google.fr\n"
     ]
    },
    {
     "name": "stdout",
     "output_type": "stream",
     "text": [
      "The websie http://google.fr is down\n"
     ]
    },
    {
     "name": "stderr",
     "output_type": "stream",
     "text": [
      "WARNING:root:Timeout expired for website http://google.es\n"
     ]
    },
    {
     "name": "stdout",
     "output_type": "stream",
     "text": [
      "The websie http://google.es is down\n"
     ]
    },
    {
     "name": "stderr",
     "output_type": "stream",
     "text": [
      "WARNING:root:Timeout expired for website http://google.co.uk\n"
     ]
    },
    {
     "name": "stdout",
     "output_type": "stream",
     "text": [
      "The websie http://google.co.uk is down\n"
     ]
    },
    {
     "name": "stderr",
     "output_type": "stream",
     "text": [
      "WARNING:root:Timeout expired for website http://gmail.com\n"
     ]
    },
    {
     "name": "stdout",
     "output_type": "stream",
     "text": [
      "The websie http://gmail.com is down\n"
     ]
    },
    {
     "name": "stderr",
     "output_type": "stream",
     "text": [
      "WARNING:root:Timeout expired for website http://really-cool-available-domain.com\n"
     ]
    },
    {
     "name": "stdout",
     "output_type": "stream",
     "text": [
      "The websie http://really-cool-available-domain.com is down\n"
     ]
    },
    {
     "name": "stderr",
     "output_type": "stream",
     "text": [
      "WARNING:root:Timeout expired for website http://another-really-interesting-domain.co\n"
     ]
    },
    {
     "name": "stdout",
     "output_type": "stream",
     "text": [
      "The websie http://another-really-interesting-domain.co is down\n"
     ]
    },
    {
     "name": "stderr",
     "output_type": "stream",
     "text": [
      "WARNING:root:Timeout expired for website http://instagram.com\n"
     ]
    },
    {
     "name": "stdout",
     "output_type": "stream",
     "text": [
      "The websie http://instagram.com is down\n"
     ]
    },
    {
     "name": "stderr",
     "output_type": "stream",
     "text": [
      "WARNING:root:Timeout expired for website http://youtube.com\n"
     ]
    },
    {
     "name": "stdout",
     "output_type": "stream",
     "text": [
      "The websie http://youtube.com is down\n"
     ]
    },
    {
     "name": "stderr",
     "output_type": "stream",
     "text": [
      "WARNING:root:Website http://netflix.com returned status_code=403\n"
     ]
    },
    {
     "name": "stdout",
     "output_type": "stream",
     "text": [
      "The websie http://netflix.com is down\n"
     ]
    },
    {
     "name": "stderr",
     "output_type": "stream",
     "text": [
      "WARNING:root:Timeout expired for website http://wordpress.com\n"
     ]
    },
    {
     "name": "stdout",
     "output_type": "stream",
     "text": [
      "The websie http://wordpress.com is down\n",
      "Website uptimer of the serial version takes 148.788743019104 seconds\n"
     ]
    }
   ],
   "source": [
    "# The serial version\n",
    "start = time()\n",
    "for address in WEBSITE_LIST:\n",
    "    check_website(address)\n",
    "end = time()        \n",
    " \n",
    "    \n",
    "print(f'Website uptimer of the serial version takes {end-start} seconds')"
   ]
  },
  {
   "cell_type": "markdown",
   "metadata": {},
   "source": [
    "You should build two versions of the **website uptimer**, by using:\n",
    "\n",
    "**2.1 (Points 15)**\n",
    "**threading** with N=4 threads; \n",
    "\n",
    "**2.2 (Points 15)**\n",
    "**multiprocessing** with N=4 processes. \n",
    "\n",
    "\n",
    "**2.3 (Points 10)** \n",
    "\n",
    "Compare the times of the three versions and write a short explanation of what you are observing.\n",
    "\n",
    "How does the answer change when N=8 and why?\n"
   ]
  },
  {
   "cell_type": "markdown",
   "metadata": {},
   "source": [
    "# Answer to 2.1\n",
    "\n",
    "**2.1 (Points 15)**\n",
    "**threading** with N=4 threads; "
   ]
  },
  {
   "cell_type": "code",
   "execution_count": 14,
   "metadata": {
    "ExecuteTime": {
     "end_time": "2021-04-05T16:51:48.528505Z",
     "start_time": "2021-04-05T16:51:48.523934Z"
    }
   },
   "outputs": [],
   "source": [
    "def check_websites(q):\n",
    "    while True:\n",
    "        address=q.get()\n",
    "        try:\n",
    "            ping_website(address)\n",
    "        except WebsiteDownException:\n",
    "            print('The websie ' + address + ' is down')\n",
    "        q.task_done()"
   ]
  },
  {
   "cell_type": "code",
   "execution_count": 15,
   "metadata": {
    "ExecuteTime": {
     "end_time": "2021-04-05T16:52:48.591206Z",
     "start_time": "2021-04-05T16:51:48.533791Z"
    }
   },
   "outputs": [
    {
     "name": "stderr",
     "output_type": "stream",
     "text": [
      "WARNING:root:Timeout expired for website http://facebook.com\n",
      "WARNING:root:Timeout expired for website http://google.com\n"
     ]
    },
    {
     "name": "stdout",
     "output_type": "stream",
     "text": [
      "The websie http://facebook.com is down\n",
      "The websie http://google.com is down\n"
     ]
    },
    {
     "name": "stderr",
     "output_type": "stream",
     "text": [
      "WARNING:root:Timeout expired for website http://google.fr\n",
      "WARNING:root:Timeout expired for website http://google.es\n"
     ]
    },
    {
     "name": "stdout",
     "output_type": "stream",
     "text": [
      "The websie http://google.fr is down\n",
      "The websie http://google.es is down\n"
     ]
    },
    {
     "name": "stderr",
     "output_type": "stream",
     "text": [
      "WARNING:root:Timeout expired for website http://really-cool-available-domain.com\n"
     ]
    },
    {
     "name": "stdout",
     "output_type": "stream",
     "text": [
      "The websie http://really-cool-available-domain.com is down\n"
     ]
    },
    {
     "name": "stderr",
     "output_type": "stream",
     "text": [
      "WARNING:root:Timeout expired for website http://another-really-interesting-domain.co\n"
     ]
    },
    {
     "name": "stdout",
     "output_type": "stream",
     "text": [
      "The websie http://another-really-interesting-domain.co is down\n"
     ]
    },
    {
     "name": "stderr",
     "output_type": "stream",
     "text": [
      "WARNING:root:Timeout expired for website http://google.co.uk\n",
      "WARNING:root:Timeout expired for website http://gmail.com\n"
     ]
    },
    {
     "name": "stdout",
     "output_type": "stream",
     "text": [
      "The websie http://google.co.uk is down\n",
      "The websie http://gmail.com is down\n"
     ]
    },
    {
     "name": "stderr",
     "output_type": "stream",
     "text": [
      "WARNING:root:Website http://netflix.com returned status_code=403\n",
      "WARNING:root:Timeout expired for website http://wordpress.com\n"
     ]
    },
    {
     "name": "stdout",
     "output_type": "stream",
     "text": [
      "The websie http://netflix.com is down\n",
      "The websie http://wordpress.com is down\n"
     ]
    },
    {
     "name": "stderr",
     "output_type": "stream",
     "text": [
      "WARNING:root:Timeout expired for website http://instagram.com\n"
     ]
    },
    {
     "name": "stdout",
     "output_type": "stream",
     "text": [
      "The websie http://instagram.com is down\n"
     ]
    },
    {
     "name": "stderr",
     "output_type": "stream",
     "text": [
      "WARNING:root:Timeout expired for website http://youtube.com\n"
     ]
    },
    {
     "name": "stdout",
     "output_type": "stream",
     "text": [
      "The websie http://youtube.com is down\n",
      "Website uptimer takes 60.049705028533936 seconds using threading with N = 4 threads\n"
     ]
    }
   ],
   "source": [
    "# N = 4\n",
    "# Threading\n",
    "start = time()\n",
    "q = Queue()\n",
    "num_threads = 4\n",
    "for _ in range(num_threads):\n",
    "    worker = Thread(target=check_websites, args=(q, ))\n",
    "    worker.setDaemon(True)\n",
    "    worker.start()\n",
    "\n",
    "\n",
    "for address in WEBSITE_LIST:\n",
    "    q.put(address)\n",
    "q.join()\n",
    "end = time()\n",
    "\n",
    "\n",
    "print(f'Website uptimer takes {end-start} seconds using threading with N = 4 threads')"
   ]
  },
  {
   "cell_type": "markdown",
   "metadata": {},
   "source": [
    "# Answer to 2.2\n",
    "\n",
    "\n",
    "**2.2 (Points 15)**\n",
    "**multiprocessing** with N=4 processes. "
   ]
  },
  {
   "cell_type": "code",
   "execution_count": 16,
   "metadata": {
    "ExecuteTime": {
     "end_time": "2021-04-05T16:54:09.196349Z",
     "start_time": "2021-04-05T16:52:48.594553Z"
    }
   },
   "outputs": [
    {
     "name": "stderr",
     "output_type": "stream",
     "text": [
      "WARNING:root:Timeout expired for website http://really-cool-available-domain.com\n"
     ]
    },
    {
     "name": "stdout",
     "output_type": "stream",
     "text": [
      "The websie http://really-cool-available-domain.com is down\n"
     ]
    },
    {
     "name": "stderr",
     "output_type": "stream",
     "text": [
      "WARNING:root:Timeout expired for website http://another-really-interesting-domain.co\n"
     ]
    },
    {
     "name": "stdout",
     "output_type": "stream",
     "text": [
      "The websie http://another-really-interesting-domain.co is down\n"
     ]
    },
    {
     "name": "stderr",
     "output_type": "stream",
     "text": [
      "WARNING:root:Timeout expired for website http://google.fr\n"
     ]
    },
    {
     "name": "stdout",
     "output_type": "stream",
     "text": [
      "The websie http://google.fr is down"
     ]
    },
    {
     "name": "stderr",
     "output_type": "stream",
     "text": [
      "WARNING:root:Timeout expired for website http://google.co.uk\n"
     ]
    },
    {
     "name": "stdout",
     "output_type": "stream",
     "text": [
      "\n",
      "The websie http://google.co.uk is down"
     ]
    },
    {
     "name": "stderr",
     "output_type": "stream",
     "text": [
      "WARNING:root:Timeout expired for website http://facebook.com\n"
     ]
    },
    {
     "name": "stdout",
     "output_type": "stream",
     "text": [
      "\n",
      "The websie http://facebook.com is down\n"
     ]
    },
    {
     "name": "stderr",
     "output_type": "stream",
     "text": [
      "WARNING:root:Timeout expired for website http://google.com\n"
     ]
    },
    {
     "name": "stdout",
     "output_type": "stream",
     "text": [
      "The websie http://google.com is down\n"
     ]
    },
    {
     "name": "stderr",
     "output_type": "stream",
     "text": [
      "WARNING:root:Timeout expired for website http://instagram.com\n"
     ]
    },
    {
     "name": "stdout",
     "output_type": "stream",
     "text": [
      "The websie http://instagram.com is down\n"
     ]
    },
    {
     "name": "stderr",
     "output_type": "stream",
     "text": [
      "WARNING:root:Website http://netflix.com returned status_code=403\n"
     ]
    },
    {
     "name": "stdout",
     "output_type": "stream",
     "text": [
      "The websie http://netflix.com is down\n"
     ]
    },
    {
     "name": "stderr",
     "output_type": "stream",
     "text": [
      "WARNING:root:Timeout expired for website http://wordpress.com\n"
     ]
    },
    {
     "name": "stdout",
     "output_type": "stream",
     "text": [
      "The websie http://wordpress.com is down\n"
     ]
    },
    {
     "name": "stderr",
     "output_type": "stream",
     "text": [
      "WARNING:root:Timeout expired for website http://google.es\n"
     ]
    },
    {
     "name": "stdout",
     "output_type": "stream",
     "text": [
      "The websie http://google.es is down\n"
     ]
    },
    {
     "name": "stderr",
     "output_type": "stream",
     "text": [
      "WARNING:root:Timeout expired for website http://gmail.com\n"
     ]
    },
    {
     "name": "stdout",
     "output_type": "stream",
     "text": [
      "The websie http://gmail.com is down\n"
     ]
    },
    {
     "name": "stderr",
     "output_type": "stream",
     "text": [
      "WARNING:root:Timeout expired for website http://youtube.com\n"
     ]
    },
    {
     "name": "stdout",
     "output_type": "stream",
     "text": [
      "The websie http://youtube.com is down\n",
      "Website uptimer takes 80.59258794784546 seconds using multiprocessing with N = 4 processes\n"
     ]
    }
   ],
   "source": [
    "# N = 4\n",
    "# Multiprocessing\n",
    "start = time()\n",
    "num_process = 4\n",
    "with Pool(num_process) as p:\n",
    "     results = p.map(check_website, WEBSITE_LIST)      \n",
    "end = time()     \n",
    "\n",
    " \n",
    "print(f'Website uptimer takes {end-start} seconds using multiprocessing with N = 4 processes')"
   ]
  },
  {
   "cell_type": "markdown",
   "metadata": {},
   "source": [
    "# Answer to 2.3\n",
    "\n",
    "**2.3 (Points 10)** \n",
    "\n",
    "Compare the times of the three versions and write a short explanation of what you are observing.\n",
    "\n",
    "How does the answer change when N=8 and why?"
   ]
  },
  {
   "cell_type": "markdown",
   "metadata": {},
   "source": [
    "### Compare the times of the three versions:\n",
    "\n",
    "- The serial version requires nearly 148.80 seconds.\n",
    "- The threading version (with N = 4 threads) requires nearly 60.05 seconds.\n",
    "- The multiprocessing version (with N = 4 processes) requires nearly 80.59 seconds. \n",
    "---\n",
    "- I observe that both the threading version and the multiprocessing version increase the speed of the website uptimer, while threading even performs better. \n",
    "- This phenomenon can be explained by the fact that: although python has a GIL, this HEAD request problem is actually an input/output bound task and the majority of the time is spent waiting for the network. Hence, threading and multiprocessing can provide a large speed increase. Here, though multiprocessing can speed up the task to some extent,  in each process, it still needs to wait until it gets the response from the website, so that it can send the request to the next website. While in threading, once we send the request and wait for the response, the next thread is ready to go. \n",
    "\n",
    "### How does the answer change when N=8 and why?\n",
    "\n",
    "- The threading version (with N = 8 threads) requires nearly 22.14 seconds.\n",
    "- The multiprocessing version (with N = 8 processes) requires nearly 42.47 seconds. \n",
    "---\n",
    "- I obeserve that the time required for the threading version and the multiprocessing version both decrease.\n",
    "- This phenomenon can be explained by the fact that the new task(N=8) can reduce more time in the HEAD request process, since more threads and processes can work concurrently."
   ]
  },
  {
   "cell_type": "code",
   "execution_count": 17,
   "metadata": {
    "ExecuteTime": {
     "end_time": "2021-04-05T16:54:31.348106Z",
     "start_time": "2021-04-05T16:54:09.200278Z"
    }
   },
   "outputs": [
    {
     "name": "stderr",
     "output_type": "stream",
     "text": [
      "WARNING:root:Timeout expired for website http://google.com\n"
     ]
    },
    {
     "name": "stdout",
     "output_type": "stream",
     "text": [
      "The websie http://google.com is down\n"
     ]
    },
    {
     "name": "stderr",
     "output_type": "stream",
     "text": [
      "WARNING:root:Timeout expired for website http://really-cool-available-domain.com\n"
     ]
    },
    {
     "name": "stdout",
     "output_type": "stream",
     "text": [
      "The websie http://really-cool-available-domain.com is down\n"
     ]
    },
    {
     "name": "stderr",
     "output_type": "stream",
     "text": [
      "WARNING:root:Timeout expired for website http://another-really-interesting-domain.co\n"
     ]
    },
    {
     "name": "stdout",
     "output_type": "stream",
     "text": [
      "The websie http://another-really-interesting-domain.co is down\n"
     ]
    },
    {
     "name": "stderr",
     "output_type": "stream",
     "text": [
      "WARNING:root:Website http://netflix.com returned status_code=403\n",
      "WARNING:root:Timeout expired for website http://wordpress.com\n"
     ]
    },
    {
     "name": "stdout",
     "output_type": "stream",
     "text": [
      "The websie http://netflix.com is down\n",
      "The websie http://wordpress.com is down\n"
     ]
    },
    {
     "name": "stderr",
     "output_type": "stream",
     "text": [
      "WARNING:root:Timeout expired for website http://google.es\n",
      "WARNING:root:Timeout expired for website http://gmail.com\n",
      "WARNING:root:Timeout expired for website http://facebook.com\n",
      "WARNING:root:Timeout expired for website http://google.co.uk\n",
      "WARNING:root:Timeout expired for website http://google.fr\n"
     ]
    },
    {
     "name": "stdout",
     "output_type": "stream",
     "text": [
      "The websie http://google.es is down\n",
      "The websie http://gmail.com is down\n",
      "The websie http://facebook.com is down\n",
      "The websie http://google.co.uk is down\n",
      "The websie http://google.fr is down\n"
     ]
    },
    {
     "name": "stderr",
     "output_type": "stream",
     "text": [
      "WARNING:root:Timeout expired for website http://instagram.com\n"
     ]
    },
    {
     "name": "stdout",
     "output_type": "stream",
     "text": [
      "The websie http://instagram.com is down\n"
     ]
    },
    {
     "name": "stderr",
     "output_type": "stream",
     "text": [
      "WARNING:root:Timeout expired for website http://youtube.com\n"
     ]
    },
    {
     "name": "stdout",
     "output_type": "stream",
     "text": [
      "The websie http://youtube.com is down\n",
      "Website uptimer takes 22.139533042907715 seconds using threading with N = 8 threads\n"
     ]
    }
   ],
   "source": [
    "# N = 8\n",
    "# Threading\n",
    "start = time()\n",
    "q = Queue()\n",
    "num_threads = 8\n",
    "for _ in range(num_threads):\n",
    "    worker = Thread(target=check_websites, args=(q, ))\n",
    "    worker.setDaemon(True)\n",
    "    worker.start()\n",
    "\n",
    "\n",
    "for address in WEBSITE_LIST:\n",
    "    q.put(address)\n",
    "q.join()\n",
    "end = time()\n",
    "\n",
    "\n",
    "print(f'Website uptimer takes {end-start} seconds using threading with N = 8 threads')"
   ]
  },
  {
   "cell_type": "code",
   "execution_count": 18,
   "metadata": {
    "ExecuteTime": {
     "end_time": "2021-04-05T16:55:13.830100Z",
     "start_time": "2021-04-05T16:54:31.352539Z"
    }
   },
   "outputs": [
    {
     "name": "stderr",
     "output_type": "stream",
     "text": [
      "WARNING:root:Timeout expired for website http://really-cool-available-domain.com\n"
     ]
    },
    {
     "name": "stdout",
     "output_type": "stream",
     "text": [
      "The websie http://really-cool-available-domain.com is down\n"
     ]
    },
    {
     "name": "stderr",
     "output_type": "stream",
     "text": [
      "WARNING:root:Timeout expired for website http://another-really-interesting-domain.co\n"
     ]
    },
    {
     "name": "stdout",
     "output_type": "stream",
     "text": [
      "The websie http://another-really-interesting-domain.co is down\n"
     ]
    },
    {
     "name": "stderr",
     "output_type": "stream",
     "text": [
      "WARNING:root:Timeout expired for website http://facebook.com\n",
      "WARNING:root:Timeout expired for website http://google.fr\n",
      "WARNING:root:Timeout expired for website http://google.es\n",
      "WARNING:root:Timeout expired for website http://gmail.com\n",
      "WARNING:root:Timeout expired for website http://google.co.uk\n"
     ]
    },
    {
     "name": "stdout",
     "output_type": "stream",
     "text": [
      "The websie http://google.fr is downThe websie http://google.es is downThe websie http://facebook.com is downThe websie http://google.co.uk is downThe websie http://gmail.com is down\n",
      "\n",
      "\n",
      "\n",
      "\n"
     ]
    },
    {
     "name": "stderr",
     "output_type": "stream",
     "text": [
      "WARNING:root:Timeout expired for website http://google.com\n"
     ]
    },
    {
     "name": "stdout",
     "output_type": "stream",
     "text": [
      "The websie http://google.com is down\n"
     ]
    },
    {
     "name": "stderr",
     "output_type": "stream",
     "text": [
      "WARNING:root:Timeout expired for website http://wordpress.com\n"
     ]
    },
    {
     "name": "stdout",
     "output_type": "stream",
     "text": [
      "The websie http://wordpress.com is down\n"
     ]
    },
    {
     "name": "stderr",
     "output_type": "stream",
     "text": [
      "WARNING:root:Website http://netflix.com returned status_code=403\n"
     ]
    },
    {
     "name": "stdout",
     "output_type": "stream",
     "text": [
      "The websie http://netflix.com is down\n"
     ]
    },
    {
     "name": "stderr",
     "output_type": "stream",
     "text": [
      "WARNING:root:Timeout expired for website http://instagram.com\n"
     ]
    },
    {
     "name": "stdout",
     "output_type": "stream",
     "text": [
      "The websie http://instagram.com is down\n"
     ]
    },
    {
     "name": "stderr",
     "output_type": "stream",
     "text": [
      "WARNING:root:Timeout expired for website http://youtube.com\n"
     ]
    },
    {
     "name": "stdout",
     "output_type": "stream",
     "text": [
      "The websie http://youtube.com is down\n",
      "Website uptimer takes 42.47116804122925 seconds using multiprocessing with N = 8 processes\n"
     ]
    }
   ],
   "source": [
    "# N = 8\n",
    "# Multiprocessing\n",
    "start = time()\n",
    "num_process = 8\n",
    "with Pool(num_process) as p:\n",
    "     results = p.map(check_website, WEBSITE_LIST)      \n",
    "end = time()     \n",
    "\n",
    " \n",
    "print(f'Website uptimer takes {end-start} seconds using multiprocessing with N = 8 processes')"
   ]
  }
 ],
 "metadata": {
  "hide_input": false,
  "kernelspec": {
   "display_name": "Python 3",
   "language": "python",
   "name": "python3"
  },
  "language_info": {
   "codemirror_mode": {
    "name": "ipython",
    "version": 3
   },
   "file_extension": ".py",
   "mimetype": "text/x-python",
   "name": "python",
   "nbconvert_exporter": "python",
   "pygments_lexer": "ipython3",
   "version": "3.8.3"
  },
  "latex_envs": {
   "LaTeX_envs_menu_present": true,
   "autoclose": false,
   "autocomplete": true,
   "bibliofile": "biblio.bib",
   "cite_by": "apalike",
   "current_citInitial": 1,
   "eqLabelWithNumbers": true,
   "eqNumInitial": 1,
   "hotkeys": {
    "equation": "Ctrl-E",
    "itemize": "Ctrl-I"
   },
   "labels_anchors": false,
   "latex_user_defs": false,
   "report_style_numbering": false,
   "user_envs_cfg": false
  },
  "nbTranslate": {
   "displayLangs": [
    "*"
   ],
   "hotkey": "alt-t",
   "langInMainMenu": true,
   "sourceLang": "en",
   "targetLang": "fr",
   "useGoogleTranslate": true
  },
  "toc": {
   "base_numbering": 1,
   "nav_menu": {},
   "number_sections": true,
   "sideBar": true,
   "skip_h1_title": false,
   "title_cell": "Table of Contents",
   "title_sidebar": "Contents",
   "toc_cell": false,
   "toc_position": {},
   "toc_section_display": true,
   "toc_window_display": false
  },
  "varInspector": {
   "cols": {
    "lenName": 16,
    "lenType": 16,
    "lenVar": 40
   },
   "kernels_config": {
    "python": {
     "delete_cmd_postfix": "",
     "delete_cmd_prefix": "del ",
     "library": "var_list.py",
     "varRefreshCmd": "print(var_dic_list())"
    },
    "r": {
     "delete_cmd_postfix": ") ",
     "delete_cmd_prefix": "rm(",
     "library": "var_list.r",
     "varRefreshCmd": "cat(var_dic_list()) "
    }
   },
   "types_to_exclude": [
    "module",
    "function",
    "builtin_function_or_method",
    "instance",
    "_Feature"
   ],
   "window_display": false
  }
 },
 "nbformat": 4,
 "nbformat_minor": 2
}
