{
 "cells": [
  {
   "cell_type": "markdown",
   "metadata": {},
   "source": [
    "## Homework 09:  Parallel Programming 02\n",
    "\n",
    "## Due Date: Friday Apr 23, 2021, 05:00pm\n",
    "\n",
    "#### Firstname Lastname: WenxinZhang\n",
    "\n",
    "#### E-mail: wz2164@nyu.edu\n",
    "\n",
    "#### Enter your solutions and submit this notebook"
   ]
  },
  {
   "cell_type": "markdown",
   "metadata": {},
   "source": [
    "---\n",
    "\n",
    "**Problem 1 (40p)**\n",
    "\n",
    "In this problem the goal is to calculate the mean and standard deviation of a large list of numbers by using Reduction as one of Collective Operations, see Lecture 11. \n",
    "\n",
    "\n",
    "Consider $N = 256000$ random variables uniform on $[0, 1]$, call these $x_0, x_1, \\dots, x_{N - 1}$.  \n",
    "\n",
    "\n",
    "Write an MPI program with $N=16$ processes that outputs the average and standard deviation of $x_0, x_1, \\dots, x_{N - 1}$.\n",
    "\n",
    "\n",
    "To simplify the problem, let one process, say `Process 0`, independently draws $N$ samples uniformly on $[0, 1]$.\n",
    "\n",
    "How do you explain the results?\n",
    "\n",
    "\n",
    "**Instructions:** \n",
    "Your program should use MPI4PY and collective operations. \n",
    "Save your program as 2020_spring_sol09_pr01.py and run it from the terminal as:\n",
    "\n",
    "```\n",
    "mpirun -n 16 python 2020_spring_sol09_pr01.py\n",
    "```\n"
   ]
  },
  {
   "cell_type": "code",
   "execution_count": 1,
   "metadata": {
    "ExecuteTime": {
     "end_time": "2021-04-23T04:01:57.775371Z",
     "start_time": "2021-04-23T04:01:57.770715Z"
    }
   },
   "outputs": [
    {
     "name": "stdout",
     "output_type": "stream",
     "text": [
      "Overwriting 2020_spring_sol09_pr01.py\n"
     ]
    }
   ],
   "source": [
    "%%writefile 2020_spring_sol09_pr01.py\n",
    "from mpi4py import MPI\n",
    "import numpy as np\n",
    "\n",
    "comm = MPI.COMM_WORLD\n",
    "rank = comm.Get_rank()\n",
    "size = comm.Get_size()\n",
    "\n",
    "N = 256000\n",
    "\n",
    "### Let Process 0 independently draw N samples uniformly on [0, 1]\n",
    "if rank == 0:\n",
    "    data = np.random.uniform(0, 1, N).astype('f')   \n",
    "    data = data.reshape(size, int(N/size))    \n",
    "else:\n",
    "    data = None\n",
    "\n",
    "### Each Process charge N/size samples \n",
    "recvbuf = np.empty(int(N/size), dtype='f')\n",
    "\n",
    "### Scatter data to all of the Process\n",
    "comm.Scatter(data, recvbuf, root=0)\n",
    "local_sum = sum(recvbuf)\n",
    "\n",
    "### Calculate the global mean\n",
    "global_sum = comm.allreduce(local_sum, MPI.SUM)\n",
    "global_mean = global_sum/N\n",
    "\n",
    "### Calculate the local sum of the squared difference from the mean\n",
    "local_sq_diff = sum((num-global_mean)**2 for num in recvbuf)\n",
    "\n",
    "### Reduce the global sum of the squared differences from the mean to the root Process\n",
    "global_sq_diff = comm.reduce(local_sq_diff, MPI.SUM, 0)\n",
    "\n",
    "if rank == 0:\n",
    "    std_dev = np.sqrt(global_sq_diff/N)\n",
    "    print(f'- Mean: {global_mean};')\n",
    "    print(f'- Standard Deviation: {std_dev};')\n",
    "    print(f'- Standard Deviation calculated by numpy: {np.std(data)};')"
   ]
  },
  {
   "cell_type": "code",
   "execution_count": 2,
   "metadata": {
    "ExecuteTime": {
     "end_time": "2021-04-23T04:01:57.778960Z",
     "start_time": "2021-04-23T04:01:57.776979Z"
    }
   },
   "outputs": [],
   "source": [
    "# !mpirun -n 16 python 2020_spring_sol09_pr01.py\n",
    "# the .py file is runned using Command Line and the output is seen as below"
   ]
  },
  {
   "cell_type": "markdown",
   "metadata": {},
   "source": [
    "- Mean: 0.5000351471266964;\n",
    "- Standard Deviation: 0.28842484025216725;\n",
    "- Standard Deviation calculated by numpy: 0.28842484951019287;"
   ]
  },
  {
   "cell_type": "code",
   "execution_count": null,
   "metadata": {},
   "outputs": [],
   "source": []
  },
  {
   "cell_type": "markdown",
   "metadata": {},
   "source": [
    "\n",
    "---\n",
    "**Problem 2 (60p)**\n",
    "\n",
    "In this problem the goal is to demonstrate how one can use a Domain Decomposition and  Collective Operations. \n",
    "\n",
    "Consider the exponential distribution $X \\sim \\textrm{Exp}(1)$ with the unit mean. Find numerical approximations of moments of the exponential random variable. \n",
    "\n",
    "That is, for a random variable $X$ with the distribution $f(x) = e^{-x}$ for $x \\geq 0$, compute the first $15$ moments, where the $k$-th moment is defined as:\n",
    "$$I_k = \\int_{0}^{\\infty} x^k f(x) dx.$$\n",
    "\n",
    "\n",
    "Your program should use MPI parallel collective instructions, where the integration is performed in parallel over $N=16$ processes, over a finite range $[0, M)$, where $M=1000$, with $N = 16$ partitions and $1000$ increments per partition, see Lecture 10 and 11.\n",
    "\n",
    "Provide evaluations of $J_1, J_2, \\dots, J_{15}$, where $$J_k = \\int_{0}^{M} x^k f(x) dx.$$\n",
    "\n",
    "\n",
    "**Instructions:** \n",
    "\n",
    "Save your program as 2020_sol09_pr02.py; and run it from the terminal as:\n",
    "\n",
    "```\n",
    "mpirun -n 16 python 2020_spring_sol09_pr02.py\n",
    "```\n",
    "\n",
    "\n",
    "**Bonus Question (10 points):** \n",
    "\n",
    "What is the value of $I_k$, as a function of $k$? How can it be derived?"
   ]
  },
  {
   "cell_type": "code",
   "execution_count": 3,
   "metadata": {
    "ExecuteTime": {
     "end_time": "2021-04-23T04:01:57.852138Z",
     "start_time": "2021-04-23T04:01:57.847971Z"
    }
   },
   "outputs": [
    {
     "name": "stdout",
     "output_type": "stream",
     "text": [
      "Overwriting 2020_spring_sol09_pr02.py\n"
     ]
    }
   ],
   "source": [
    "%%writefile 2020_spring_sol09_pr02.py\n",
    "import numpy\n",
    "import sys\n",
    "from math import exp\n",
    "from mpi4py import MPI\n",
    "\n",
    "power_k_lst = list(range(1, 16))\n",
    "for power_k in power_k_lst:\n",
    "    power_k = int(power_k)\n",
    "\n",
    "    comm = MPI.COMM_WORLD\n",
    "    rank = comm.Get_rank()\n",
    "    size = comm.Get_size()\n",
    "\n",
    "    def calculate_integral(a_r, delta, n, k):\n",
    "        integral = 0.0\n",
    "        for j in range(n):\n",
    "            x = a_r + (j+0.5) * delta\n",
    "            integral += (x**k) * exp(-x) * delta\n",
    "        return integral\n",
    "\n",
    "    global_integral_start = 0.0\n",
    "    global_integral_end = 1000.0\n",
    "\n",
    "    local_integral = numpy.zeros(1)\n",
    "    global_integral = numpy.zeros(1)\n",
    "\n",
    "    dest = 0\n",
    "\n",
    "    ### Initialize the value of n only if this is rank 0\n",
    "    if rank == 0:\n",
    "        n = numpy.full(1, 1000, dtype=int) \n",
    "    else:\n",
    "        n = numpy.zeros(1, dtype=int)\n",
    "\n",
    "    ### Broadcast n to all of the Process\n",
    "    comm.Bcast(n, root=0)\n",
    "\n",
    "    ### Each partition, we have 1000 increments\n",
    "    global_delta = (global_integral_end-global_integral_start) / (n*size)  \n",
    "    local_integral_start = global_integral_start + rank * (n*global_delta)\n",
    "    local_integral[0] = calculate_integral(local_integral_start, global_delta, n[0], power_k)\n",
    "\n",
    "    ### Send each partition back to the root Process\n",
    "    ### Computing the sum across all of the partitions\n",
    "    # print(\"Process\", rank, \"has the partial integral:\", local_integral[0])\n",
    "    comm.Reduce(local_integral, global_integral, MPI.SUM, dest)\n",
    "\n",
    "    ### Print the result in Process 0\n",
    "    if rank == 0:\n",
    "        print('- The Integral Sum when k=', power_k, 'is', global_integral[0])"
   ]
  },
  {
   "cell_type": "code",
   "execution_count": 4,
   "metadata": {
    "ExecuteTime": {
     "end_time": "2021-04-23T04:01:57.879897Z",
     "start_time": "2021-04-23T04:01:57.878094Z"
    }
   },
   "outputs": [],
   "source": [
    "# !mpirun -n 16 python 2020_spring_sol09_pr02.py\n",
    "# the .py file is runned using Command Line and the output is seen as below"
   ]
  },
  {
   "cell_type": "markdown",
   "metadata": {},
   "source": [
    "- The Integral Sum when k= 1 is 1.0001627047952104\n",
    "- The Integral Sum when k= 2 is 2.0000001112238226\n",
    "- The Integral Sum when k= 3 is 5.99999988885252\n",
    "- The Integral Sum when k= 4 is 23.999999999771028\n",
    "- The Integral Sum when k= 5 is 120.00000000022848\n",
    "- The Integral Sum when k= 6 is 719.9999999999999\n",
    "- The Integral Sum when k= 7 is 5040.000000000001\n",
    "- The Integral Sum when k= 8 is 40320.00000000004\n",
    "- The Integral Sum when k= 9 is 362879.9999999999\n",
    "- The Integral Sum when k= 10 is 3628800.0000000023\n",
    "- The Integral Sum when k= 11 is 39916799.99999997\n",
    "- The Integral Sum when k= 12 is 479001600.0000007\n",
    "- The Integral Sum when k= 13 is 6227020800.000004\n",
    "- The Integral Sum when k= 14 is 87178291200.0002\n",
    "- The Integral Sum when k= 15 is 1307674368000.0007"
   ]
  },
  {
   "cell_type": "markdown",
   "metadata": {},
   "source": [
    "### Bonus"
   ]
  },
  {
   "cell_type": "markdown",
   "metadata": {},
   "source": [
    "- What is the value of 𝐼𝑘 , as a function of  𝑘 ? How can it be derived?\n",
    "- Solution: the value of 𝐼𝑘 as a function of k is 0. As we approaches M to infinity, $e^{-x}$ approches 0 accordingly."
   ]
  },
  {
   "cell_type": "code",
   "execution_count": 5,
   "metadata": {
    "ExecuteTime": {
     "end_time": "2021-04-23T04:01:58.067889Z",
     "start_time": "2021-04-23T04:01:58.064506Z"
    }
   },
   "outputs": [
    {
     "name": "stdout",
     "output_type": "stream",
     "text": [
      "Overwriting 2020_spring_sol09_pr02_bonus.py\n"
     ]
    }
   ],
   "source": [
    "%%writefile 2020_spring_sol09_pr02_bonus.py\n",
    "import numpy\n",
    "import sys\n",
    "from math import exp\n",
    "from mpi4py import MPI\n",
    "\n",
    "power_k_lst = list(range(1, 16))\n",
    "for power_k in power_k_lst:\n",
    "    power_k = int(power_k)\n",
    "\n",
    "    comm = MPI.COMM_WORLD\n",
    "    rank = comm.Get_rank()\n",
    "    size = comm.Get_size()\n",
    "\n",
    "    def calculate_integral(start, delta, n, k):\n",
    "        integral = 0.0\n",
    "        for partition in range(n):\n",
    "            x = start + (partition+0.5) * delta\n",
    "            integral += (x**k) * exp(-x) * delta\n",
    "        return integral\n",
    "\n",
    "    global_integral_start = 0.0\n",
    "#     global_integral_end = 1_000_000.0\n",
    "#     global_integral_end = 5_000_000.0\n",
    "    global_integral_end = 100_000_000.0\n",
    "\n",
    "\n",
    "    local_integral = numpy.zeros(1)\n",
    "    global_integral = numpy.zeros(1)\n",
    "\n",
    "    dest = 0\n",
    "\n",
    "    ### Initialize the value of n only if this is rank 0\n",
    "    if rank == 0:\n",
    "        n = numpy.full(1, 1000, dtype=int) \n",
    "    else:\n",
    "        n = numpy.zeros(1, dtype=int)\n",
    "\n",
    "    ### Broadcast n to all of the Process\n",
    "    comm.Bcast(n, root=0)\n",
    "\n",
    "    ### Each partition, we have 1000 increments\n",
    "    global_delta = (global_integral_end-global_integral_start) / (n*size)  \n",
    "    local_integral_start = global_integral_start + rank * (n*global_delta)\n",
    "    local_integral[0] = calculate_integral(local_integral_start, global_delta, n[0], power_k)\n",
    "\n",
    "    ### Send each partition back to the root Process\n",
    "    ### Computing the sum across all of the partitions\n",
    "    # print(\"Process\", rank, \"has the partial integral:\", local_integral[0])\n",
    "    comm.Reduce(local_integral, global_integral, MPI.SUM, dest)\n",
    "\n",
    "    ### Print the result in Process 0\n",
    "    if rank == 0:\n",
    "        print('- The Integral Sum when k=', power_k, 'is', global_integral[0])"
   ]
  },
  {
   "cell_type": "markdown",
   "metadata": {},
   "source": [
    "- Setting M = 1_000_000.0\n",
    "- The Integral Sum when k= 1 is 5.236335679261335e-11\n",
    "- The Integral Sum when k= 2 is 1.6363548997691671e-09\n",
    "- The Integral Sum when k= 3 is 5.1136090617786475e-08\n",
    "- The Integral Sum when k= 4 is 1.5980028318058271e-06\n",
    "- The Integral Sum when k= 5 is 4.9937588493932106e-05\n",
    "- The Integral Sum when k= 6 is 0.0015605496404353782\n",
    "- The Integral Sum when k= 7 is 0.04876717626360557\n",
    "- The Integral Sum when k= 8 is 1.5239742582376739\n",
    "- The Integral Sum when k= 9 is 47.624195569927316\n",
    "- The Integral Sum when k= 10 is 1488.2561115602286\n",
    "- The Integral Sum when k= 11 is 46508.00348625714\n",
    "- The Integral Sum when k= 12 is 1453375.1089455357\n",
    "- The Integral Sum when k= 13 is 45417972.15454798\n",
    "- The Integral Sum when k= 14 is 1419311629.8296247\n",
    "- The Integral Sum when k= 15 is 44353488432.17577"
   ]
  },
  {
   "cell_type": "markdown",
   "metadata": {
    "ExecuteTime": {
     "end_time": "2021-04-23T03:58:09.767062Z",
     "start_time": "2021-04-23T03:58:09.758151Z"
    }
   },
   "source": [
    "- Setting M = 5_000_000.0\n",
    "- The Integral Sum when k= 1 is 6.763278173450203e-64\n",
    "- The Integral Sum when k= 2 is 1.0567622146015943e-61\n",
    "- The Integral Sum when k= 3 is 1.6511909603149911e-59\n",
    "- The Integral Sum when k= 4 is 2.5799858754921736e-57\n",
    "- The Integral Sum when k= 5 is 4.031227930456521e-55\n",
    "- The Integral Sum when k= 6 is 6.298793641338314e-53\n",
    "- The Integral Sum when k= 7 is 9.841865064591116e-51\n",
    "- The Integral Sum when k= 8 is 1.537791416342362e-48\n",
    "- The Integral Sum when k= 9 is 2.4027990880349408e-46\n",
    "- The Integral Sum when k= 10 is 3.7543735750545943e-44\n",
    "- The Integral Sum when k= 11 is 5.866208711022805e-42\n",
    "- The Integral Sum when k= 12 is 9.16595111097313e-40\n",
    "- The Integral Sum when k= 13 is 1.4321798610895516e-37\n",
    "- The Integral Sum when k= 14 is 2.2377810329524246e-35\n",
    "- The Integral Sum when k= 15 is 3.496532863988163e-33"
   ]
  },
  {
   "cell_type": "markdown",
   "metadata": {},
   "source": [
    "- Setting M = 100_000_000.0\n",
    "- The Integral Sum when k= 1 is 0.0\n",
    "- The Integral Sum when k= 2 is 0.0\n",
    "- The Integral Sum when k= 3 is 0.0\n",
    "- The Integral Sum when k= 4 is 0.0\n",
    "- The Integral Sum when k= 5 is 0.0\n",
    "- The Integral Sum when k= 6 is 0.0\n",
    "- The Integral Sum when k= 7 is 0.0\n",
    "- The Integral Sum when k= 8 is 0.0\n",
    "- The Integral Sum when k= 9 is 0.0\n",
    "- The Integral Sum when k= 10 is 0.0\n",
    "- The Integral Sum when k= 11 is 0.0\n",
    "- The Integral Sum when k= 12 is 0.0\n",
    "- The Integral Sum when k= 13 is 0.0\n",
    "- The Integral Sum when k= 14 is 0.0\n",
    "- The Integral Sum when k= 15 is 0.0"
   ]
  },
  {
   "cell_type": "code",
   "execution_count": null,
   "metadata": {},
   "outputs": [],
   "source": []
  }
 ],
 "metadata": {
  "hide_input": false,
  "kernelspec": {
   "display_name": "Python 3",
   "language": "python",
   "name": "python3"
  },
  "language_info": {
   "codemirror_mode": {
    "name": "ipython",
    "version": 3
   },
   "file_extension": ".py",
   "mimetype": "text/x-python",
   "name": "python",
   "nbconvert_exporter": "python",
   "pygments_lexer": "ipython3",
   "version": "3.8.3"
  },
  "latex_envs": {
   "LaTeX_envs_menu_present": true,
   "autoclose": false,
   "autocomplete": true,
   "bibliofile": "biblio.bib",
   "cite_by": "apalike",
   "current_citInitial": 1,
   "eqLabelWithNumbers": true,
   "eqNumInitial": 1,
   "hotkeys": {
    "equation": "Ctrl-E",
    "itemize": "Ctrl-I"
   },
   "labels_anchors": false,
   "latex_user_defs": false,
   "report_style_numbering": false,
   "user_envs_cfg": false
  },
  "nbTranslate": {
   "displayLangs": [
    "*"
   ],
   "hotkey": "alt-t",
   "langInMainMenu": true,
   "sourceLang": "en",
   "targetLang": "fr",
   "useGoogleTranslate": true
  },
  "toc": {
   "base_numbering": 1,
   "nav_menu": {},
   "number_sections": true,
   "sideBar": true,
   "skip_h1_title": false,
   "title_cell": "Table of Contents",
   "title_sidebar": "Contents",
   "toc_cell": false,
   "toc_position": {},
   "toc_section_display": true,
   "toc_window_display": false
  },
  "varInspector": {
   "cols": {
    "lenName": 16,
    "lenType": 16,
    "lenVar": 40
   },
   "kernels_config": {
    "python": {
     "delete_cmd_postfix": "",
     "delete_cmd_prefix": "del ",
     "library": "var_list.py",
     "varRefreshCmd": "print(var_dic_list())"
    },
    "r": {
     "delete_cmd_postfix": ") ",
     "delete_cmd_prefix": "rm(",
     "library": "var_list.r",
     "varRefreshCmd": "cat(var_dic_list()) "
    }
   },
   "types_to_exclude": [
    "module",
    "function",
    "builtin_function_or_method",
    "instance",
    "_Feature"
   ],
   "window_display": false
  }
 },
 "nbformat": 4,
 "nbformat_minor": 2
}
