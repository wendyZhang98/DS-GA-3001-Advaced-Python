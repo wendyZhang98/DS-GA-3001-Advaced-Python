{
 "cells": [
  {
   "cell_type": "markdown",
   "metadata": {},
   "source": [
    "# Advanced Python for Data Science\n",
    "### DS-GA-3001.001/.002/.003\n",
    "\n",
    "### Homework Assignment 04\n",
    "### Due date: 03/08/2021, 4:00PM\n",
    "### Student's Name: WenxinZhang\n",
    "### Student's e-mail: wz2164@nyu.edu"
   ]
  },
  {
   "cell_type": "markdown",
   "metadata": {},
   "source": [
    "# Problem 1 (100 points)\n",
    "\n",
    "The task is to optimize your solutions by using \"line_profiler\". \n",
    "\n",
    "Your submission \"spring2021_sol04_yourid.ipynb\" will contain:\n",
    "- the first part is your original solution (a solution that you originally wrote); \n",
    "- the second part is your final, optimized solution after using line_profiler; \n",
    "- both of which will include the line_profiler results, and your detailed comments.\n",
    "\n",
    "\n",
    "The problem is to simulate a random motion of $n$ objects over a discrete time. \n",
    "\n",
    "Concretely, there is:\n",
    "- a unit square $[0,1]^2$, \n",
    "- $n$ points within the unit square, \n",
    "- and the time is discrete $t=0, 1, 2, \\dots$. \n",
    "\n",
    "At time $t=0$, the positions of $n$ points are randomly and uniformly distributed within the unit square; call these positions $\\{p_0, p_1, p_2,\\dots, p_{n-1}\\}$. \n",
    "\n",
    "At every time step $t \\geq 0$, every point $i$, chooses to randomly move in one of four directions: left, right, up, down. The distance is also random uniform number on $[0, \\delta]$, where $\\delta$ is given. \n",
    "\n",
    "That is, at every time step $t$ and for every $i$ we generate a random move as: \n",
    "$$ p_i := p_i + r_i \\cdot u_i$$\n",
    "where \n",
    "$$ r_i \\sim uniform[0, \\delta],$$ \n",
    "and \n",
    "$u_i$ represents a random direction, i.e. a randomly chosen vector among $(-1, 0), (1, 0), (0, -1), (0, 1)$.\n",
    "\n",
    "**Dynamics**\n",
    "\n",
    "Now, one would like to examine and plot the diagram of the minimum distance $d_{\\min}$ among these $n$ points over $T$ iterations.\n",
    "\n",
    "The task is to complete the rest of this notebook, where definitions of the functions main_orignal and main_optimized are given below. "
   ]
  },
  {
   "cell_type": "code",
   "execution_count": 1,
   "metadata": {
    "ExecuteTime": {
     "end_time": "2021-03-08T04:40:54.241275Z",
     "start_time": "2021-03-08T04:40:53.923573Z"
    }
   },
   "outputs": [],
   "source": [
    "import numpy as np\n",
    "import random\n",
    "import matplotlib.pyplot as plt\n",
    "from itertools import combinations"
   ]
  },
  {
   "cell_type": "code",
   "execution_count": 2,
   "metadata": {
    "ExecuteTime": {
     "end_time": "2021-03-08T04:40:54.306186Z",
     "start_time": "2021-03-08T04:40:54.297867Z"
    }
   },
   "outputs": [],
   "source": [
    "%load_ext line_profiler"
   ]
  },
  {
   "cell_type": "markdown",
   "metadata": {},
   "source": [
    "---\n",
    "\n",
    "### The original code description: \n",
    "\n",
    "** TO BE POPULATED **\n",
    "\n",
    "** EXPLAIN THE SOLUTION ** \n",
    "\n",
    "---\n"
   ]
  },
  {
   "cell_type": "code",
   "execution_count": 3,
   "metadata": {
    "ExecuteTime": {
     "end_time": "2021-03-08T04:40:55.400982Z",
     "start_time": "2021-03-08T04:40:55.393639Z"
    }
   },
   "outputs": [],
   "source": [
    "def main_original(n, delta, T): \n",
    "    \"\"\" \n",
    "    n: is the number of uniformly at random generated points in the unit square \n",
    "    delta: a maximal move of a point in one of four random directions: left, right, up, or down \n",
    "    T: number of iterations\n",
    "    return: \n",
    "    lst_of_min_distances: of the minimum distances among all n points over times: t=0, 1, 2, \\dots, T - 1,\n",
    "    it is a list of reals of length T\"\"\"\n",
    "    \n",
    "    x_y_coo_lst = list(zip(np.random.uniform(0, 1, n), np.random.uniform(0, 1, n))) # construct n points within the unit square\n",
    "    x_y_coo_lst = list(map(lambda x: np.array(x), x_y_coo_lst)) # represent each point's coordinate using array\n",
    "    vector_lst = [(-1, 0), (1, 0), (0, -1), (0, 1)] # move in one of the four directions\n",
    "    min_dist_i = []\n",
    "    for iteration_i in range(T):\n",
    "        dist_lst = [] \n",
    "        x_y_coo_lst = list(map(lambda x: x+np.random.uniform(0, delta)*np.array(vector_lst[np.random.randint(0, 4)]), x_y_coo_lst))\n",
    "        # make sure the n points are still in the unit square\n",
    "        for point in x_y_coo_lst:\n",
    "            for index in range(2):\n",
    "                if point[index] > 1:\n",
    "                    point[index] = 1\n",
    "                if point[index] < 0:\n",
    "                    point[index] = 0\n",
    "        # compute the distances between these n points\n",
    "        for index_i in combinations(range(n), 2):\n",
    "            dist_lst.append(np.linalg.norm(x_y_coo_lst[index_i[0]]-x_y_coo_lst[index_i[1]]))\n",
    "        min_dist_i.append(min(dist_lst))\n",
    "    return min_dist_i"
   ]
  },
  {
   "cell_type": "code",
   "execution_count": 4,
   "metadata": {
    "ExecuteTime": {
     "end_time": "2021-03-08T04:40:55.538204Z",
     "start_time": "2021-03-08T04:40:55.535773Z"
    }
   },
   "outputs": [],
   "source": [
    "n = 1500\n",
    "delta = 1.0 / n\n",
    "T = 20"
   ]
  },
  {
   "cell_type": "code",
   "execution_count": 5,
   "metadata": {
    "ExecuteTime": {
     "end_time": "2021-03-08T04:46:02.483070Z",
     "start_time": "2021-03-08T04:40:56.025613Z"
    }
   },
   "outputs": [],
   "source": [
    "%lprun -f main_original lst_min_dist = main_original(n, delta, T) # 275 seconds"
   ]
  },
  {
   "cell_type": "code",
   "execution_count": 6,
   "metadata": {
    "ExecuteTime": {
     "end_time": "2021-03-08T04:46:02.720937Z",
     "start_time": "2021-03-08T04:46:02.523814Z"
    },
    "scrolled": true
   },
   "outputs": [
    {
     "name": "stdout",
     "output_type": "stream",
     "text": [
      "len: 20\n"
     ]
    },
    {
     "data": {
      "image/png": "[encoded data removed]",
      "text/plain": [
       "<Figure size 432x288 with 1 Axes>"
      ]
     },
     "metadata": {
      "needs_background": "light"
     },
     "output_type": "display_data"
    }
   ],
   "source": [
    "# plot the diagram of the minimum distances:\n",
    "# where we rescale distance with by factor $\\sqrt{n}$:\n",
    "print(\"len:\", len(lst_min_dist))\n",
    "plt.plot(range(T), np.array(lst_min_dist) * np.sqrt(n))\n",
    "plt.show()"
   ]
  },
  {
   "cell_type": "markdown",
   "metadata": {},
   "source": [
    "---\n",
    "\n",
    "### The optimized code description: \n",
    "\n",
    "** TO BE POPULATED **\n",
    "\n",
    "** EXPLAIN THE SOLUTION ** \n",
    "\n",
    "---\n"
   ]
  },
  {
   "cell_type": "code",
   "execution_count": 7,
   "metadata": {
    "ExecuteTime": {
     "end_time": "2021-03-08T04:54:51.924728Z",
     "start_time": "2021-03-08T04:54:51.917762Z"
    }
   },
   "outputs": [],
   "source": [
    "def main_optimized(n, delta, T): \n",
    "    \"\"\" \n",
    "    n: is the number of uniformly at random generated points in the unit square \n",
    "    delta: a maximal move of a point in one of four random directions: left, right, up, or down \n",
    "    T: number of iterations\n",
    "    return: \n",
    "    lst_of_min_distances: of the minimum distances among all n points over times: t=0, 1, 2, \\dots, T - 1,\n",
    "    it is a list of reals of length T\"\"\"\n",
    "    x_y_coor_arr = np.random.random(2*n).reshape(-1, 2) # construct a n*2 array representing the coordinates of the n points\n",
    "    min_dist_lst = []\n",
    "    for iteration_i in range(T):\n",
    "        min_dist = np.sqrt(2)\n",
    "        for point_i, point_j in combinations(x_y_coor_arr, 2): # combine each two points to compute their distance\n",
    "            min_dist = min(((point_i[0]-point_j[0])**2 + (point_i[1]-point_j[1])**2)**0.5, min_dist)\n",
    "        min_dist_lst.append(min_dist)\n",
    "        for row_i in range(n):\n",
    "            delta_ = random.uniform(0, delta)\n",
    "            temp_i = x_y_coor_arr[row_i] + random.choice([(-delta_,0),(delta_,0),(0,-delta_),(0,delta_)]) \n",
    "            # make sure the n points are still in the unit square\n",
    "            x_y_coor_arr[row_i][0] = min(max(0, temp_i[0]), 1)\n",
    "            x_y_coor_arr[row_i][1] = min(max(0, temp_i[1]), 1)\n",
    "            \n",
    "    return min_dist_lst"
   ]
  },
  {
   "cell_type": "code",
   "execution_count": 8,
   "metadata": {
    "ExecuteTime": {
     "end_time": "2021-03-08T04:54:52.446041Z",
     "start_time": "2021-03-08T04:54:52.442725Z"
    }
   },
   "outputs": [],
   "source": [
    "n = 1500\n",
    "delta = 1.0 / n\n",
    "T = 40"
   ]
  },
  {
   "cell_type": "code",
   "execution_count": 9,
   "metadata": {
    "ExecuteTime": {
     "end_time": "2021-03-08T04:57:32.466658Z",
     "start_time": "2021-03-08T04:54:52.798458Z"
    }
   },
   "outputs": [],
   "source": [
    "%lprun -f main_optimized lst_min_dist = main_optimized(n, delta, T) # 125 seconds"
   ]
  },
  {
   "cell_type": "code",
   "execution_count": 10,
   "metadata": {
    "ExecuteTime": {
     "end_time": "2021-03-08T04:57:32.660156Z",
     "start_time": "2021-03-08T04:57:32.511380Z"
    }
   },
   "outputs": [
    {
     "name": "stdout",
     "output_type": "stream",
     "text": [
      "len: 40\n"
     ]
    },
    {
     "data": {
      "image/png": "[encoded data removed]",
      "text/plain": [
       "<Figure size 432x288 with 1 Axes>"
      ]
     },
     "metadata": {
      "needs_background": "light"
     },
     "output_type": "display_data"
    }
   ],
   "source": [
    "# plot the diagram of the minimum distances:\n",
    "# where we rescale distance by a factor $\\sqrt{n}$:\n",
    "print(\"len:\", len(lst_min_dist))\n",
    "plt.plot(range(T), np.array(lst_min_dist) * np.sqrt(n))\n",
    "plt.show()"
   ]
  }
 ],
 "metadata": {
  "kernelspec": {
   "display_name": "Python 3",
   "language": "python",
   "name": "python3"
  },
  "language_info": {
   "codemirror_mode": {
    "name": "ipython",
    "version": 3
   },
   "file_extension": ".py",
   "mimetype": "text/x-python",
   "name": "python",
   "nbconvert_exporter": "python",
   "pygments_lexer": "ipython3",
   "version": "3.8.3"
  },
  "latex_envs": {
   "LaTeX_envs_menu_present": true,
   "autoclose": false,
   "autocomplete": true,
   "bibliofile": "biblio.bib",
   "cite_by": "apalike",
   "current_citInitial": 1,
   "eqLabelWithNumbers": true,
   "eqNumInitial": 1,
   "hotkeys": {
    "equation": "Ctrl-E",
    "itemize": "Ctrl-I"
   },
   "labels_anchors": false,
   "latex_user_defs": false,
   "report_style_numbering": false,
   "user_envs_cfg": false
  },
  "toc": {
   "base_numbering": 1,
   "nav_menu": {},
   "number_sections": true,
   "sideBar": true,
   "skip_h1_title": false,
   "title_cell": "Table of Contents",
   "title_sidebar": "Contents",
   "toc_cell": false,
   "toc_position": {},
   "toc_section_display": true,
   "toc_window_display": false
  },
  "varInspector": {
   "cols": {
    "lenName": 16,
    "lenType": 16,
    "lenVar": 40
   },
   "kernels_config": {
    "python": {
     "delete_cmd_postfix": "",
     "delete_cmd_prefix": "del ",
     "library": "var_list.py",
     "varRefreshCmd": "print(var_dic_list())"
    },
    "r": {
     "delete_cmd_postfix": ") ",
     "delete_cmd_prefix": "rm(",
     "library": "var_list.r",
     "varRefreshCmd": "cat(var_dic_list()) "
    }
   },
   "types_to_exclude": [
    "module",
    "function",
    "builtin_function_or_method",
    "instance",
    "_Feature"
   ],
   "window_display": false
  }
 },
 "nbformat": 4,
 "nbformat_minor": 2
}
